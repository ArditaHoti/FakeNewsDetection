{
  "cells": [
    {
      "cell_type": "markdown",
      "metadata": {
        "id": "view-in-github",
        "colab_type": "text"
      },
      "source": [
        "<a href=\"https://colab.research.google.com/github/ArditaHoti/FakeNewsDetection/blob/main/FakeNewsDetection.ipynb\" target=\"_parent\"><img src=\"https://colab.research.google.com/assets/colab-badge.svg\" alt=\"Open In Colab\"/></a>"
      ]
    },
    {
      "cell_type": "code",
      "execution_count": null,
      "metadata": {
        "colab": {
          "base_uri": "https://localhost:8080/"
        },
        "id": "lAPOgGJufLQL",
        "outputId": "6dbf872b-f443-4e72-9ad0-a1aae65fe85b"
      },
      "outputs": [
        {
          "output_type": "stream",
          "name": "stdout",
          "text": [
            "Drive already mounted at /content/drive; to attempt to forcibly remount, call drive.mount(\"/content/drive\", force_remount=True).\n"
          ]
        }
      ],
      "source": [
        "\n",
        "\n",
        "\n",
        "from google.colab import drive\n",
        "drive.mount('/content/drive')"
      ]
    },
    {
      "cell_type": "code",
      "execution_count": null,
      "metadata": {
        "colab": {
          "base_uri": "https://localhost:8080/"
        },
        "id": "qkdn_MyRG2jx",
        "outputId": "e3c971f8-78a3-4d76-b959-1e4d5a996f49"
      },
      "outputs": [
        {
          "output_type": "stream",
          "name": "stdout",
          "text": [
            "Requirement already satisfied: pyspark in /usr/local/lib/python3.10/dist-packages (3.5.1)\n",
            "Requirement already satisfied: py4j==0.10.9.7 in /usr/local/lib/python3.10/dist-packages (from pyspark) (0.10.9.7)\n"
          ]
        }
      ],
      "source": [
        "!pip install pyspark"
      ]
    },
    {
      "cell_type": "code",
      "execution_count": null,
      "metadata": {
        "id": "qQO7InYSiA_K"
      },
      "outputs": [],
      "source": [
        "from pyspark import SparkContext, SparkConf\n",
        "from pyspark.sql import SQLContext, SparkSession\n",
        "import pyspark.sql.functions as F\n",
        "from pyspark.sql import *\n",
        "from pyspark.sql.functions import isnan, when, count, col, udf,  lower, regexp_replace, rand, round, lit, concat\n",
        "from pyspark.ml.feature import RegexTokenizer, StopWordsRemover, StringIndexer, HashingTF, IDF, Word2Vec\n",
        "from pyspark.sql.types import IntegerType\n",
        "from pyspark.ml import Pipeline\n",
        "from pyspark.ml.tuning import ParamGridBuilder, CrossValidator\n",
        "from pyspark.ml.evaluation import BinaryClassificationEvaluator\n",
        "from pyspark.ml.classification import RandomForestClassifier\n",
        "from pyspark.ml.classification import NaiveBayes\n",
        "from pyspark.ml.evaluation import MulticlassClassificationEvaluator\n",
        "from pyspark.mllib.evaluation import MulticlassMetrics, BinaryClassificationMetrics\n",
        "import matplotlib.pyplot as plt\n",
        "import numpy as np"
      ]
    },
    {
      "cell_type": "code",
      "execution_count": null,
      "metadata": {
        "id": "GUL9dy9oLZ0Q"
      },
      "outputs": [],
      "source": [
        "import os\n",
        "import sys\n",
        "\n",
        "os.environ['PYSPARK_PYTHON'] = sys.executable\n",
        "os.environ['PYSPARK_DRIVER_PYTHON'] = sys.executable"
      ]
    },
    {
      "cell_type": "code",
      "execution_count": null,
      "metadata": {
        "colab": {
          "base_uri": "https://localhost:8080/"
        },
        "id": "fPpIe2WgiDOE",
        "outputId": "1f92a1a4-b16f-44d3-84b6-5ed08ba9aa64"
      },
      "outputs": [
        {
          "output_type": "stream",
          "name": "stderr",
          "text": [
            "/usr/local/lib/python3.10/dist-packages/pyspark/sql/context.py:113: FutureWarning: Deprecated in 3.0.0. Use SparkSession.builder.getOrCreate() instead.\n",
            "  warnings.warn(\n"
          ]
        }
      ],
      "source": [
        "\n",
        "#create a SparkConf with the following attributes:\n",
        "#setAppName: Set application name\n",
        "#setMaster: Set master URL to connect to\n",
        "#spark driver memory is a flag that controls the amount of memory to allocate for a driver, which is 1GB by default. It is\n",
        "#set to 15g to accomadate the text processing and training of models\n",
        "conf = SparkConf().setAppName('Fake_news_detection').setMaster('local[4]').set('spark.driver.memory', '15g')\n",
        "\n",
        "#create an entry point using SparkConf: conf\n",
        "sc = SparkContext(conf=conf)\n",
        "#SQLcontext is created using sc for realational functionality\n",
        "sql_context = SQLContext(sc)"
      ]
    },
    {
      "cell_type": "markdown",
      "metadata": {
        "id": "TnWJyhRMuxPY"
      },
      "source": [
        "### Data Preprocessing"
      ]
    },
    {
      "cell_type": "code",
      "execution_count": null,
      "metadata": {
        "id": "1Gjn7Ddyi7Sa"
      },
      "outputs": [],
      "source": [
        "#read the real news data\n",
        "data = sql_context.read.csv('/content/drive/MyDrive/alb-fake-news-corpus.csv', header = True, inferSchema = True)"
      ]
    },
    {
      "cell_type": "code",
      "execution_count": null,
      "metadata": {
        "colab": {
          "base_uri": "https://localhost:8080/"
        },
        "id": "a_n-qy8bW-lL",
        "outputId": "7257349d-ccd0-4da7-bf5d-3a1b0694f967"
      },
      "outputs": [
        {
          "output_type": "stream",
          "name": "stdout",
          "text": [
            "+--------------------+--------------------+--------------------+--------------------+--------------------+----------------+-----------------------------------+-----------------------------+-------------------+--------------------+-------------------------------+---------------+--------------------+--------------------------+---------------+--------------------+-----------------+------------------+---------------------+---------+\n",
            "|               title|             content|publication_datetime|        facebook_url|        web_page_url|number_of_tokens|number_of_words_without_punctuation|number_of_words_in_upper_case|average_word_length|number_of_characters|number_of_letters_in_upper_case|number_of_verbs|number_of_subjuntive|number_of_imperative_verbs|number_of_nouns|number_of_adjectives|number_of_adverbs|number_of_pronouns|number_of_modal_verbs|fake_news|\n",
            "+--------------------+--------------------+--------------------+--------------------+--------------------+----------------+-----------------------------------+-----------------------------+-------------------+--------------------+-------------------------------+---------------+--------------------+--------------------------+---------------+--------------------+-----------------+------------------+---------------------+---------+\n",
            "|Studimi gjerman: ...|Një nga pesë paci...|2020/07/29, 23:12:48|https://m.faceboo...|http://www.botaso...|             303|                                270|                           23|                5.2|                1878|                             42|             46|                   0|                         1|             35|                  21|               11|                 0|                    0|    False|\n",
            "|Labinot Tahiri: G...|Zojë Haxhiaj nga ...|2020/07/29, 21:36:47|https://m.faceboo...|http://www.botaso...|             383|                                344|                           31|               4.58|                2135|                             47|             52|                   0|                         0|             44|                  13|               17|                 0|                    0|    False|\n",
            "|Parashikon Albule...|Ish-ministrja e D...|2020/07/29, 00:16:23|https://m.faceboo...|http://www.botaso...|             253|                                228|                           23|               4.85|                1480|                             31|             44|                   0|                         0|             30|                   7|                8|                 0|                    2|    False|\n",
            "|Covid-19 rriti la...|Që nga 13 marsi k...|2020/07/25, 17:46:34|https://m.faceboo...|https://kallxo.co...|             598|                                544|                           62|               5.48|                3877|                            159|             84|                   0|                         0|            106|                  19|                8|                 0|                    1|    False|\n",
            "|Kryeministri Hoti...|Presidenti i Koso...|2020/07/25, 17:37:10|https://m.faceboo...|https://kallxo.co...|             144|                                130|                           14|               5.58|                 947|                             21|             11|                   0|                         0|             26|                   6|                4|                 0|                    0|    False|\n",
            "|Hoti: Do t’i dyfi...|Kryeministri i Ko...|2020/07/25, 17:14:22|https://m.faceboo...|https://kallxo.co...|             655|                                579|                           81|               5.27|                4105|                            143|             96|                   0|                         0|             95|                  23|               14|                 0|                    4|    False|\n",
            "|Prokuroria: I dys...|I dyshuari për vr...|2020/07/25, 16:48:06|https://m.faceboo...|https://kallxo.co...|             291|                                246|                           37|               5.09|                1771|                             52|             34|                   0|                         0|             42|                  17|                9|                 0|                    0|    False|\n",
            "|Prokuroria: I dys...|I dyshuari për vr...|2020/07/25, 15:55:39|https://m.faceboo...|https://kallxo.co...|             291|                                246|                           37|               5.09|                1771|                             52|             34|                   0|                         0|             42|                  17|                9|                 0|                    0|    False|\n",
            "|Alarmante - Rreth...|Numri i rasteve a...|2020/07/25, 15:26:52|https://m.faceboo...|https://kallxo.co...|             249|                                210|                           39|               4.98|                1487|                             68|             22|                   0|                         0|             49|                  14|                5|                 0|                    0|    False|\n",
            "|Numri i të infekt...|Komuna e Prishtin...|2020/07/25, 15:19:16|https://m.faceboo...|https://kallxo.co...|             224|                                188|                           33|               5.02|                1347|                             57|             20|                   0|                         0|             47|                   9|                4|                 0|                    0|    False|\n",
            "|5 persona me COVI...|5 persona kanë vd...|2020/07/25, 15:12:43|https://m.faceboo...|https://kallxo.co...|              74|                                 66|                            3|               4.96|                 440|                             15|              7|                   0|                         0|             12|                   3|                3|                 0|                    0|    False|\n",
            "|Jeta virtuale e f...|Bukurie Zejnullah...|2020/07/25, 15:02:32|https://m.faceboo...|https://kallxo.co...|            1817|                               1645|                           70|               5.23|               11321|                            258|            301|                   0|                         1|            206|                  78|               31|                 0|                    5|    False|\n",
            "|Prizren, aksident...|Një aksident traf...|2020/07/25, 15:01:54|https://m.faceboo...|https://kallxo.co...|              92|                                 83|                            8|               5.27|                 576|                             12|             12|                   0|                         1|             12|                   2|                1|                 0|                    0|    False|\n",
            "|Gjurmimi i COVID-...|Frika se mund të ...|2020/07/29, 00:12:14|https://m.faceboo...|http://www.botaso...|             584|                                538|                           33|               4.73|                3343|                             75|             78|                   0|                         0|             79|                  37|               23|                 0|                    4|    False|\n",
            "|Tentojnë kontraba...|Në pikën kufitare...|2020/07/25, 14:52:12|https://m.faceboo...|https://kallxo.co...|              62|                                 55|                            7|               5.35|                 393|                             12|              9|                   0|                         0|             12|                   1|                2|                 0|                    0|    False|\n",
            "|KSHZ certifikon r...|Komisioni shtetër...|2020/07/25, 14:50:09|https://m.faceboo...|https://kallxo.co...|             287|                                255|                           43|               5.29|                1803|                             90|             33|                   0|                         0|             50|                  18|                5|                 0|                    0|    False|\n",
            "|Kapixhikët e Priz...|Kush e di – e di ...|2020/07/25, 13:50:56|https://m.faceboo...|https://kallxo.co...|             829|                                724|                           65|                5.2|                5141|                            237|            125|                   0|                         0|             78|                  31|               30|                 0|                    6|    False|\n",
            "|Hoti: Sektori pri...|Kryeministri i Re...|2020/07/25, 13:35:02|https://m.faceboo...|https://kallxo.co...|             231|                                201|                           28|               5.29|                1452|                             33|             33|                   0|                         1|             32|                  11|                8|                 0|                    0|    False|\n",
            "|Drenas, dy person...|Dy persona nga fs...|2020/07/25, 12:56:04|https://m.faceboo...|https://kallxo.co...|              63|                                 56|                            9|               5.57|                 413|                             23|              4|                   0|                         0|              9|                   2|                2|                 0|                    0|    False|\n",
            "|Kina mbyll konsul...|Konsullata e Kinë...|2020/07/25, 12:43:35|https://m.faceboo...|https://kallxo.co...|             149|                                137|                           26|               5.43|                 957|                             39|              9|                   0|                         0|             26|                  10|                2|                 0|                    0|    False|\n",
            "+--------------------+--------------------+--------------------+--------------------+--------------------+----------------+-----------------------------------+-----------------------------+-------------------+--------------------+-------------------------------+---------------+--------------------+--------------------------+---------------+--------------------+-----------------+------------------+---------------------+---------+\n",
            "only showing top 20 rows\n",
            "\n"
          ]
        }
      ],
      "source": [
        "data.show()"
      ]
    },
    {
      "cell_type": "code",
      "execution_count": null,
      "metadata": {
        "colab": {
          "base_uri": "https://localhost:8080/"
        },
        "id": "SVMZr-e7IJez",
        "outputId": "ad90f5dd-5ae2-4e94-c0e5-7e1eddbc4e87"
      },
      "outputs": [
        {
          "output_type": "execute_result",
          "data": {
            "text/plain": [
              "3994"
            ]
          },
          "metadata": {},
          "execution_count": 8
        }
      ],
      "source": [
        "#Check the length of dataframe\n",
        "data.count()"
      ]
    },
    {
      "cell_type": "code",
      "execution_count": null,
      "metadata": {
        "colab": {
          "base_uri": "https://localhost:8080/"
        },
        "id": "-TH1m0nchE2E",
        "outputId": "ef55fcb5-8dc6-45bc-b64b-bc6204cc5778"
      },
      "outputs": [
        {
          "output_type": "stream",
          "name": "stdout",
          "text": [
            "[0, 0, 0, 0, 0, 0, 0, 0, 0, 0, 0, 0, 0, 0, 0, 0, 0, 0, 0, 0]\n"
          ]
        }
      ],
      "source": [
        "# Collect the count of missing values in each column\n",
        "missing_counts = [data.where(col(column).isNull()).count() for column in data.columns]\n",
        "print(missing_counts)"
      ]
    },
    {
      "cell_type": "code",
      "execution_count": null,
      "metadata": {
        "colab": {
          "base_uri": "https://localhost:8080/"
        },
        "id": "UUobEaBGfbeR",
        "outputId": "0d833e7d-59c0-47cb-c784-761bd9ded856"
      },
      "outputs": [
        {
          "output_type": "stream",
          "name": "stdout",
          "text": [
            "root\n",
            " |-- title: string (nullable = true)\n",
            " |-- content: string (nullable = true)\n",
            " |-- publication_datetime: string (nullable = true)\n",
            " |-- facebook_url: string (nullable = true)\n",
            " |-- web_page_url: string (nullable = true)\n",
            " |-- number_of_tokens: string (nullable = true)\n",
            " |-- number_of_words_without_punctuation: string (nullable = true)\n",
            " |-- number_of_words_in_upper_case: string (nullable = true)\n",
            " |-- average_word_length: string (nullable = true)\n",
            " |-- number_of_characters: string (nullable = true)\n",
            " |-- number_of_letters_in_upper_case: string (nullable = true)\n",
            " |-- number_of_verbs: string (nullable = true)\n",
            " |-- number_of_subjuntive: string (nullable = true)\n",
            " |-- number_of_imperative_verbs: string (nullable = true)\n",
            " |-- number_of_nouns: string (nullable = true)\n",
            " |-- number_of_adjectives: string (nullable = true)\n",
            " |-- number_of_adverbs: string (nullable = true)\n",
            " |-- number_of_pronouns: string (nullable = true)\n",
            " |-- number_of_modal_verbs: string (nullable = true)\n",
            " |-- fake_news: string (nullable = true)\n",
            "\n"
          ]
        }
      ],
      "source": [
        "data.printSchema()"
      ]
    },
    {
      "cell_type": "markdown",
      "metadata": {
        "id": "dJD10gF7pc-Y"
      },
      "source": [
        "Show all the values in fake_news column, which will be used as target column"
      ]
    },
    {
      "cell_type": "code",
      "execution_count": null,
      "metadata": {
        "colab": {
          "base_uri": "https://localhost:8080/"
        },
        "id": "RG-QnEzItg8f",
        "outputId": "8676aecc-ea34-4eed-9b39-298cf13eb79b"
      },
      "outputs": [
        {
          "output_type": "stream",
          "name": "stdout",
          "text": [
            "+--------------------+-----+\n",
            "|           fake_news|count|\n",
            "+--------------------+-----+\n",
            "|        pos federata|    1|\n",
            "|  Aragon dhe Navarra|    1|\n",
            "|         Arben Gashi|    2|\n",
            "|                 232|    1|\n",
            "| përkatësisht pol...|    1|\n",
            "|                   3|    2|\n",
            "|                  34|    1|\n",
            "|            kumbullë|    1|\n",
            "| Vjosa Osmanit dh...|    1|\n",
            "|                 670|    1|\n",
            "|                1143|    1|\n",
            "|                   0|   10|\n",
            "|               False| 1934|\n",
            "| bëhu i sinqertë ...|    1|\n",
            "|                  17|    1|\n",
            "| shkruante Macgre...|    1|\n",
            "| ne kemi punuar 1...|    1|\n",
            "| kanë pasur pakën...|    1|\n",
            "|                   6|    1|\n",
            "| gati dyfishë më ...|    1|\n",
            "| por kësaj here s...|    1|\n",
            "|https://www.botas...|    1|\n",
            "| për mbrojtjen e ...|    1|\n",
            "|                  40|    1|\n",
            "| anëtarja nga Par...|    3|\n",
            "|                  25|    1|\n",
            "|http://www.botaso...|    1|\n",
            "| vendi më i madh ...|    1|\n",
            "|                 612|    1|\n",
            "|                  58|    1|\n",
            "| ku pas dy shekuj...|    1|\n",
            "| si vlera të shenjta|    1|\n",
            "| ka shtuar Buxhov...|    1|\n",
            "|                   1|    1|\n",
            "|                  10|    1|\n",
            "|http://www.botaso...|    1|\n",
            "|                  37|    1|\n",
            "|                 275|    1|\n",
            "|                   4|    1|\n",
            "| ai lehtëson elim...|    1|\n",
            "| me mosvotimin e ...|    1|\n",
            "|                1525|    1|\n",
            "|                 602|    1|\n",
            "|                2517|    1|\n",
            "| shteti i Uashing...|    1|\n",
            "|                  21|    1|\n",
            "|   pa plan afatgjatë|    1|\n",
            "|                 324|    1|\n",
            "| dërmon e shkatër...|    1|\n",
            "|                  50|    1|\n",
            "|                1892|    1|\n",
            "|        Grant Shapps|    1|\n",
            "|                True| 1996|\n",
            "+--------------------+-----+\n",
            "\n"
          ]
        }
      ],
      "source": [
        "data.groupBy('fake_news').count().show(80)"
      ]
    },
    {
      "cell_type": "markdown",
      "metadata": {
        "id": "we_Oe3tpptJQ"
      },
      "source": [
        "Since we are focused in a two labeled classification, whether the article is true or false, we will replace any other values than True to False"
      ]
    },
    {
      "cell_type": "code",
      "execution_count": null,
      "metadata": {
        "id": "Ob0NC6T6wHUl"
      },
      "outputs": [],
      "source": [
        "# Replace values other than \"False\" and \"True\" with \"False\"\n",
        "df_new = data.withColumn(\"fake_news\", when((col(\"fake_news\") == \"True\") | (col(\"fake_news\") == \"False\"), col(\"fake_news\")).otherwise(\"False\"))"
      ]
    },
    {
      "cell_type": "code",
      "execution_count": null,
      "metadata": {
        "colab": {
          "base_uri": "https://localhost:8080/"
        },
        "id": "GjtW_ayDwcos",
        "outputId": "0750f3d2-a8b5-4be3-aea5-8320046ff74d"
      },
      "outputs": [
        {
          "output_type": "stream",
          "name": "stdout",
          "text": [
            "+--------------------+--------------------+--------------------+--------------------+--------------------+----------------+-----------------------------------+-----------------------------+-------------------+--------------------+-------------------------------+---------------+--------------------+--------------------------+---------------+--------------------+-----------------+------------------+---------------------+---------+\n",
            "|               title|             content|publication_datetime|        facebook_url|        web_page_url|number_of_tokens|number_of_words_without_punctuation|number_of_words_in_upper_case|average_word_length|number_of_characters|number_of_letters_in_upper_case|number_of_verbs|number_of_subjuntive|number_of_imperative_verbs|number_of_nouns|number_of_adjectives|number_of_adverbs|number_of_pronouns|number_of_modal_verbs|fake_news|\n",
            "+--------------------+--------------------+--------------------+--------------------+--------------------+----------------+-----------------------------------+-----------------------------+-------------------+--------------------+-------------------------------+---------------+--------------------+--------------------------+---------------+--------------------+-----------------+------------------+---------------------+---------+\n",
            "|Studimi gjerman: ...|Një nga pesë paci...|2020/07/29, 23:12:48|https://m.faceboo...|http://www.botaso...|             303|                                270|                           23|                5.2|                1878|                             42|             46|                   0|                         1|             35|                  21|               11|                 0|                    0|    False|\n",
            "|Labinot Tahiri: G...|Zojë Haxhiaj nga ...|2020/07/29, 21:36:47|https://m.faceboo...|http://www.botaso...|             383|                                344|                           31|               4.58|                2135|                             47|             52|                   0|                         0|             44|                  13|               17|                 0|                    0|    False|\n",
            "|Parashikon Albule...|Ish-ministrja e D...|2020/07/29, 00:16:23|https://m.faceboo...|http://www.botaso...|             253|                                228|                           23|               4.85|                1480|                             31|             44|                   0|                         0|             30|                   7|                8|                 0|                    2|    False|\n",
            "|Covid-19 rriti la...|Që nga 13 marsi k...|2020/07/25, 17:46:34|https://m.faceboo...|https://kallxo.co...|             598|                                544|                           62|               5.48|                3877|                            159|             84|                   0|                         0|            106|                  19|                8|                 0|                    1|    False|\n",
            "|Kryeministri Hoti...|Presidenti i Koso...|2020/07/25, 17:37:10|https://m.faceboo...|https://kallxo.co...|             144|                                130|                           14|               5.58|                 947|                             21|             11|                   0|                         0|             26|                   6|                4|                 0|                    0|    False|\n",
            "|Hoti: Do t’i dyfi...|Kryeministri i Ko...|2020/07/25, 17:14:22|https://m.faceboo...|https://kallxo.co...|             655|                                579|                           81|               5.27|                4105|                            143|             96|                   0|                         0|             95|                  23|               14|                 0|                    4|    False|\n",
            "|Prokuroria: I dys...|I dyshuari për vr...|2020/07/25, 16:48:06|https://m.faceboo...|https://kallxo.co...|             291|                                246|                           37|               5.09|                1771|                             52|             34|                   0|                         0|             42|                  17|                9|                 0|                    0|    False|\n",
            "|Prokuroria: I dys...|I dyshuari për vr...|2020/07/25, 15:55:39|https://m.faceboo...|https://kallxo.co...|             291|                                246|                           37|               5.09|                1771|                             52|             34|                   0|                         0|             42|                  17|                9|                 0|                    0|    False|\n",
            "|Alarmante - Rreth...|Numri i rasteve a...|2020/07/25, 15:26:52|https://m.faceboo...|https://kallxo.co...|             249|                                210|                           39|               4.98|                1487|                             68|             22|                   0|                         0|             49|                  14|                5|                 0|                    0|    False|\n",
            "|Numri i të infekt...|Komuna e Prishtin...|2020/07/25, 15:19:16|https://m.faceboo...|https://kallxo.co...|             224|                                188|                           33|               5.02|                1347|                             57|             20|                   0|                         0|             47|                   9|                4|                 0|                    0|    False|\n",
            "|5 persona me COVI...|5 persona kanë vd...|2020/07/25, 15:12:43|https://m.faceboo...|https://kallxo.co...|              74|                                 66|                            3|               4.96|                 440|                             15|              7|                   0|                         0|             12|                   3|                3|                 0|                    0|    False|\n",
            "|Jeta virtuale e f...|Bukurie Zejnullah...|2020/07/25, 15:02:32|https://m.faceboo...|https://kallxo.co...|            1817|                               1645|                           70|               5.23|               11321|                            258|            301|                   0|                         1|            206|                  78|               31|                 0|                    5|    False|\n",
            "|Prizren, aksident...|Një aksident traf...|2020/07/25, 15:01:54|https://m.faceboo...|https://kallxo.co...|              92|                                 83|                            8|               5.27|                 576|                             12|             12|                   0|                         1|             12|                   2|                1|                 0|                    0|    False|\n",
            "|Gjurmimi i COVID-...|Frika se mund të ...|2020/07/29, 00:12:14|https://m.faceboo...|http://www.botaso...|             584|                                538|                           33|               4.73|                3343|                             75|             78|                   0|                         0|             79|                  37|               23|                 0|                    4|    False|\n",
            "|Tentojnë kontraba...|Në pikën kufitare...|2020/07/25, 14:52:12|https://m.faceboo...|https://kallxo.co...|              62|                                 55|                            7|               5.35|                 393|                             12|              9|                   0|                         0|             12|                   1|                2|                 0|                    0|    False|\n",
            "|KSHZ certifikon r...|Komisioni shtetër...|2020/07/25, 14:50:09|https://m.faceboo...|https://kallxo.co...|             287|                                255|                           43|               5.29|                1803|                             90|             33|                   0|                         0|             50|                  18|                5|                 0|                    0|    False|\n",
            "|Kapixhikët e Priz...|Kush e di – e di ...|2020/07/25, 13:50:56|https://m.faceboo...|https://kallxo.co...|             829|                                724|                           65|                5.2|                5141|                            237|            125|                   0|                         0|             78|                  31|               30|                 0|                    6|    False|\n",
            "|Hoti: Sektori pri...|Kryeministri i Re...|2020/07/25, 13:35:02|https://m.faceboo...|https://kallxo.co...|             231|                                201|                           28|               5.29|                1452|                             33|             33|                   0|                         1|             32|                  11|                8|                 0|                    0|    False|\n",
            "|Drenas, dy person...|Dy persona nga fs...|2020/07/25, 12:56:04|https://m.faceboo...|https://kallxo.co...|              63|                                 56|                            9|               5.57|                 413|                             23|              4|                   0|                         0|              9|                   2|                2|                 0|                    0|    False|\n",
            "|Kina mbyll konsul...|Konsullata e Kinë...|2020/07/25, 12:43:35|https://m.faceboo...|https://kallxo.co...|             149|                                137|                           26|               5.43|                 957|                             39|              9|                   0|                         0|             26|                  10|                2|                 0|                    0|    False|\n",
            "+--------------------+--------------------+--------------------+--------------------+--------------------+----------------+-----------------------------------+-----------------------------+-------------------+--------------------+-------------------------------+---------------+--------------------+--------------------------+---------------+--------------------+-----------------+------------------+---------------------+---------+\n",
            "only showing top 20 rows\n",
            "\n"
          ]
        }
      ],
      "source": [
        "#drop rows where fake_news is different from True or False\n",
        "#df_new = data.filter((F.col('fake_news') == 'True') | (F.col('fake_news') == 'False'))\n",
        "\n",
        "#view new DataFrame\n",
        "df_new.show()"
      ]
    },
    {
      "cell_type": "code",
      "execution_count": null,
      "metadata": {
        "colab": {
          "base_uri": "https://localhost:8080/"
        },
        "id": "DhkIe3q9x1Cr",
        "outputId": "931fb3aa-c4e9-4af5-df86-8d98d131e9f3"
      },
      "outputs": [
        {
          "output_type": "execute_result",
          "data": {
            "text/plain": [
              "3994"
            ]
          },
          "metadata": {},
          "execution_count": 14
        }
      ],
      "source": [
        "df_new.count()"
      ]
    },
    {
      "cell_type": "code",
      "execution_count": null,
      "metadata": {
        "id": "2tMEZbFwG6i7"
      },
      "outputs": [],
      "source": [
        "#3994-3930"
      ]
    },
    {
      "cell_type": "code",
      "execution_count": null,
      "metadata": {
        "id": "BQzbTzn_GzpB"
      },
      "outputs": [],
      "source": [
        "#The preecentage of the rows that are dropped\n",
        "#64/3994*100\n"
      ]
    },
    {
      "cell_type": "code",
      "execution_count": null,
      "metadata": {
        "colab": {
          "base_uri": "https://localhost:8080/"
        },
        "id": "qAsax2r4yeOj",
        "outputId": "d6285922-d077-4be4-9db0-ccef8a0793ce"
      },
      "outputs": [
        {
          "output_type": "stream",
          "name": "stdout",
          "text": [
            "+---------+-----+\n",
            "|fake_news|count|\n",
            "+---------+-----+\n",
            "|    False| 1998|\n",
            "|     True| 1996|\n",
            "+---------+-----+\n",
            "\n"
          ]
        }
      ],
      "source": [
        "df_new.groupBy('fake_news').count().show()"
      ]
    },
    {
      "cell_type": "code",
      "execution_count": null,
      "metadata": {
        "colab": {
          "base_uri": "https://localhost:8080/",
          "height": 487
        },
        "id": "BtHhh6CQzFyv",
        "outputId": "075e643c-f976-4101-b926-b295688397d0"
      },
      "outputs": [
        {
          "output_type": "display_data",
          "data": {
            "text/plain": [
              "<Figure size 800x500 with 1 Axes>"
            ],
            "image/png": "[encoded data removed]"
          },
          "metadata": {}
        }
      ],
      "source": [
        "# Count the number of occurrences for each unique value in the 'fake_news' column\n",
        "class_counts = df_new.groupBy('fake_news').count().collect()\n",
        "\n",
        "# Extract class labels and counts for plotting\n",
        "labels = [str(row['fake_news']) for row in class_counts]\n",
        "counts = [row['count'] for row in class_counts]\n",
        "\n",
        "# Plotting\n",
        "plt.figure(figsize=(8, 5))\n",
        "plt.bar(labels, counts, color='blue')\n",
        "plt.title('Class Distribution')\n",
        "plt.xlabel('Class')\n",
        "plt.ylabel('Count')\n",
        "plt.show()"
      ]
    },
    {
      "cell_type": "markdown",
      "metadata": {
        "id": "YOJcg9tKqHRB"
      },
      "source": [
        "## **Feature Engineering**"
      ]
    },
    {
      "cell_type": "code",
      "execution_count": null,
      "metadata": {
        "id": "EGQsXwppNUyl"
      },
      "outputs": [],
      "source": [
        "# Concatenate 'title' and 'content' columns into a new column 'news_article'\n",
        "df_new = df_new.withColumn('news_article', concat(col('title'), lit(' '), col('content')))\n",
        "\n"
      ]
    },
    {
      "cell_type": "code",
      "execution_count": null,
      "metadata": {
        "colab": {
          "base_uri": "https://localhost:8080/"
        },
        "id": "eYlGFo2DYTeN",
        "outputId": "feb5b6e8-55f1-4ff1-d248-5af5767e9330"
      },
      "outputs": [
        {
          "output_type": "stream",
          "name": "stdout",
          "text": [
            "+--------------------+--------------------+--------------------+--------------------+--------------------+----------------+-----------------------------------+-----------------------------+-------------------+--------------------+-------------------------------+---------------+--------------------+--------------------------+---------------+--------------------+-----------------+------------------+---------------------+---------+--------------------+\n",
            "|               title|             content|publication_datetime|        facebook_url|        web_page_url|number_of_tokens|number_of_words_without_punctuation|number_of_words_in_upper_case|average_word_length|number_of_characters|number_of_letters_in_upper_case|number_of_verbs|number_of_subjuntive|number_of_imperative_verbs|number_of_nouns|number_of_adjectives|number_of_adverbs|number_of_pronouns|number_of_modal_verbs|fake_news|        news_article|\n",
            "+--------------------+--------------------+--------------------+--------------------+--------------------+----------------+-----------------------------------+-----------------------------+-------------------+--------------------+-------------------------------+---------------+--------------------+--------------------------+---------------+--------------------+-----------------+------------------+---------------------+---------+--------------------+\n",
            "|Studimi gjerman: ...|Një nga pesë paci...|2020/07/29, 23:12:48|https://m.faceboo...|http://www.botaso...|             303|                                270|                           23|                5.2|                1878|                             42|             46|                   0|                         1|             35|                  21|               11|                 0|                    0|    False|Studimi gjerman: ...|\n",
            "|Labinot Tahiri: G...|Zojë Haxhiaj nga ...|2020/07/29, 21:36:47|https://m.faceboo...|http://www.botaso...|             383|                                344|                           31|               4.58|                2135|                             47|             52|                   0|                         0|             44|                  13|               17|                 0|                    0|    False|Labinot Tahiri: G...|\n",
            "|Parashikon Albule...|Ish-ministrja e D...|2020/07/29, 00:16:23|https://m.faceboo...|http://www.botaso...|             253|                                228|                           23|               4.85|                1480|                             31|             44|                   0|                         0|             30|                   7|                8|                 0|                    2|    False|Parashikon Albule...|\n",
            "|Covid-19 rriti la...|Që nga 13 marsi k...|2020/07/25, 17:46:34|https://m.faceboo...|https://kallxo.co...|             598|                                544|                           62|               5.48|                3877|                            159|             84|                   0|                         0|            106|                  19|                8|                 0|                    1|    False|Covid-19 rriti la...|\n",
            "|Kryeministri Hoti...|Presidenti i Koso...|2020/07/25, 17:37:10|https://m.faceboo...|https://kallxo.co...|             144|                                130|                           14|               5.58|                 947|                             21|             11|                   0|                         0|             26|                   6|                4|                 0|                    0|    False|Kryeministri Hoti...|\n",
            "|Hoti: Do t’i dyfi...|Kryeministri i Ko...|2020/07/25, 17:14:22|https://m.faceboo...|https://kallxo.co...|             655|                                579|                           81|               5.27|                4105|                            143|             96|                   0|                         0|             95|                  23|               14|                 0|                    4|    False|Hoti: Do t’i dyfi...|\n",
            "|Prokuroria: I dys...|I dyshuari për vr...|2020/07/25, 16:48:06|https://m.faceboo...|https://kallxo.co...|             291|                                246|                           37|               5.09|                1771|                             52|             34|                   0|                         0|             42|                  17|                9|                 0|                    0|    False|Prokuroria: I dys...|\n",
            "|Prokuroria: I dys...|I dyshuari për vr...|2020/07/25, 15:55:39|https://m.faceboo...|https://kallxo.co...|             291|                                246|                           37|               5.09|                1771|                             52|             34|                   0|                         0|             42|                  17|                9|                 0|                    0|    False|Prokuroria: I dys...|\n",
            "|Alarmante - Rreth...|Numri i rasteve a...|2020/07/25, 15:26:52|https://m.faceboo...|https://kallxo.co...|             249|                                210|                           39|               4.98|                1487|                             68|             22|                   0|                         0|             49|                  14|                5|                 0|                    0|    False|Alarmante - Rreth...|\n",
            "|Numri i të infekt...|Komuna e Prishtin...|2020/07/25, 15:19:16|https://m.faceboo...|https://kallxo.co...|             224|                                188|                           33|               5.02|                1347|                             57|             20|                   0|                         0|             47|                   9|                4|                 0|                    0|    False|Numri i të infekt...|\n",
            "|5 persona me COVI...|5 persona kanë vd...|2020/07/25, 15:12:43|https://m.faceboo...|https://kallxo.co...|              74|                                 66|                            3|               4.96|                 440|                             15|              7|                   0|                         0|             12|                   3|                3|                 0|                    0|    False|5 persona me COVI...|\n",
            "|Jeta virtuale e f...|Bukurie Zejnullah...|2020/07/25, 15:02:32|https://m.faceboo...|https://kallxo.co...|            1817|                               1645|                           70|               5.23|               11321|                            258|            301|                   0|                         1|            206|                  78|               31|                 0|                    5|    False|Jeta virtuale e f...|\n",
            "|Prizren, aksident...|Një aksident traf...|2020/07/25, 15:01:54|https://m.faceboo...|https://kallxo.co...|              92|                                 83|                            8|               5.27|                 576|                             12|             12|                   0|                         1|             12|                   2|                1|                 0|                    0|    False|Prizren, aksident...|\n",
            "|Gjurmimi i COVID-...|Frika se mund të ...|2020/07/29, 00:12:14|https://m.faceboo...|http://www.botaso...|             584|                                538|                           33|               4.73|                3343|                             75|             78|                   0|                         0|             79|                  37|               23|                 0|                    4|    False|Gjurmimi i COVID-...|\n",
            "|Tentojnë kontraba...|Në pikën kufitare...|2020/07/25, 14:52:12|https://m.faceboo...|https://kallxo.co...|              62|                                 55|                            7|               5.35|                 393|                             12|              9|                   0|                         0|             12|                   1|                2|                 0|                    0|    False|Tentojnë kontraba...|\n",
            "|KSHZ certifikon r...|Komisioni shtetër...|2020/07/25, 14:50:09|https://m.faceboo...|https://kallxo.co...|             287|                                255|                           43|               5.29|                1803|                             90|             33|                   0|                         0|             50|                  18|                5|                 0|                    0|    False|KSHZ certifikon r...|\n",
            "|Kapixhikët e Priz...|Kush e di – e di ...|2020/07/25, 13:50:56|https://m.faceboo...|https://kallxo.co...|             829|                                724|                           65|                5.2|                5141|                            237|            125|                   0|                         0|             78|                  31|               30|                 0|                    6|    False|Kapixhikët e Priz...|\n",
            "|Hoti: Sektori pri...|Kryeministri i Re...|2020/07/25, 13:35:02|https://m.faceboo...|https://kallxo.co...|             231|                                201|                           28|               5.29|                1452|                             33|             33|                   0|                         1|             32|                  11|                8|                 0|                    0|    False|Hoti: Sektori pri...|\n",
            "|Drenas, dy person...|Dy persona nga fs...|2020/07/25, 12:56:04|https://m.faceboo...|https://kallxo.co...|              63|                                 56|                            9|               5.57|                 413|                             23|              4|                   0|                         0|              9|                   2|                2|                 0|                    0|    False|Drenas, dy person...|\n",
            "|Kina mbyll konsul...|Konsullata e Kinë...|2020/07/25, 12:43:35|https://m.faceboo...|https://kallxo.co...|             149|                                137|                           26|               5.43|                 957|                             39|              9|                   0|                         0|             26|                  10|                2|                 0|                    0|    False|Kina mbyll konsul...|\n",
            "+--------------------+--------------------+--------------------+--------------------+--------------------+----------------+-----------------------------------+-----------------------------+-------------------+--------------------+-------------------------------+---------------+--------------------+--------------------------+---------------+--------------------+-----------------+------------------+---------------------+---------+--------------------+\n",
            "only showing top 20 rows\n",
            "\n"
          ]
        }
      ],
      "source": [
        "df_new.show()"
      ]
    },
    {
      "cell_type": "markdown",
      "metadata": {
        "id": "dT06SqA8imwS"
      },
      "source": [
        " ## **Data Cleaning**\n"
      ]
    },
    {
      "cell_type": "code",
      "execution_count": null,
      "metadata": {
        "id": "ab_SH65UY8Ad"
      },
      "outputs": [],
      "source": [
        "\n",
        "\"\"\" delete all the columns except fake_news and news_article\n",
        " columns = [\"title\",\"content\", \"publication_datetime\", \"facebook_url\",\"number_of_tokens\",\"number_of_words_without_punctuation\",\n",
        "           \"number_of_words_in_upper_case\",\"average_word_length\",\"number_of_characters\",\"number_of_letters_in_upper_case\",\n",
        "           \"number_of_verbs\",\"number_of_subjuntive\",\"number_of_imperative_verbs\",\"number_of_nouns\",\"number_of_adjectives\",\"number_of_modal_verbs\",\"number_of_adverbs\",\n",
        "           \"number_of_pronouns\",\"web_page_url\"] \"\"\"\n",
        "#remove all columns except fake_news and news_article\n",
        "columns = [\"title\",\"content\", \"publication_datetime\", \"facebook_url\",\"number_of_tokens\",\"number_of_words_without_punctuation\",\n",
        "           \"number_of_words_in_upper_case\",\"average_word_length\",\"number_of_characters\",\"number_of_letters_in_upper_case\",\n",
        "           \"number_of_verbs\",\"number_of_subjuntive\",\"number_of_imperative_verbs\",\"number_of_nouns\",\"number_of_adjectives\",\"number_of_modal_verbs\",\"number_of_adverbs\",\n",
        "           \"number_of_pronouns\",\"web_page_url\"]\n",
        "df_new = df_new.drop(*columns)"
      ]
    },
    {
      "cell_type": "code",
      "execution_count": null,
      "metadata": {
        "colab": {
          "base_uri": "https://localhost:8080/"
        },
        "id": "w_X4m4Rrj1PY",
        "outputId": "ae88fede-bdff-45bf-a65b-d214bcb9f0ff"
      },
      "outputs": [
        {
          "output_type": "stream",
          "name": "stdout",
          "text": [
            "+---------+--------------------+\n",
            "|fake_news|        news_article|\n",
            "+---------+--------------------+\n",
            "|    False|Studimi gjerman: ...|\n",
            "|    False|Labinot Tahiri: G...|\n",
            "|    False|Parashikon Albule...|\n",
            "|    False|Covid-19 rriti la...|\n",
            "|    False|Kryeministri Hoti...|\n",
            "|    False|Hoti: Do t’i dyfi...|\n",
            "|    False|Prokuroria: I dys...|\n",
            "|    False|Prokuroria: I dys...|\n",
            "|    False|Alarmante - Rreth...|\n",
            "|    False|Numri i të infekt...|\n",
            "+---------+--------------------+\n",
            "only showing top 10 rows\n",
            "\n"
          ]
        }
      ],
      "source": [
        "df_new.show(10)"
      ]
    },
    {
      "cell_type": "code",
      "execution_count": null,
      "metadata": {
        "colab": {
          "base_uri": "https://localhost:8080/"
        },
        "id": "dSWKIOpHkMO4",
        "outputId": "70866c90-24aa-4c38-d1c0-20e82d9263a4"
      },
      "outputs": [
        {
          "output_type": "stream",
          "name": "stdout",
          "text": [
            "root\n",
            " |-- fake_news: string (nullable = true)\n",
            " |-- news_article: string (nullable = true)\n",
            "\n"
          ]
        }
      ],
      "source": [
        "#print the schema of the data\n",
        "df_new.printSchema()"
      ]
    },
    {
      "cell_type": "markdown",
      "metadata": {
        "id": "oSfUW5DokVds"
      },
      "source": [
        "**Text Preprocessing using NLP**\n",
        "\n",
        "The text preprocessing involves the following steps:\n",
        "\n",
        "1. Tokenize the text into words using RegexTokenizer which is more advanced tokenization based on regular expression matching\n",
        "2. Removal of Stopwords using StopWordsRemover. Default english stopwords are used to remove unwanted words from the data.\n",
        "3. Converting text to numerical. Word2Vec is an Estimator which takes sequences of words representing documents, computes distributed vector representation of words and trains a Word2VecModel. The model maps each word to a unique fixed-size vector. The Word2VecModel transforms each document into a vector using the average of all words in the document. The advantage of this representations is that similar words are close in the vector space, which makes generalization to novel patterns easier and model estimation more robust. We moved out from Word2Vec to Hash TFIDF, because negative values created was not accepptable in our NAive Bayes Model.\n",
        "\n",
        "4. Convert target categorical values into intergers using StringIndexer.  StringIndexer encodes a string column of labels to a column of label indices.\n",
        "\n"
      ]
    },
    {
      "cell_type": "code",
      "execution_count": null,
      "metadata": {
        "id": "RNX9BXN82IWZ"
      },
      "outputs": [],
      "source": [
        "import string\n",
        "from pyspark.ml import Transformer\n",
        "from pyspark.ml.param.shared import HasInputCol, HasOutputCol, Param\n",
        "from pyspark.sql import functions as F\n",
        "from pyspark.sql.types import StringType\n",
        "from pyspark.ml.util import DefaultParamsReadable, DefaultParamsWritable\n",
        "from pyspark.ml.pipeline import Transformer\n"
      ]
    },
    {
      "cell_type": "code",
      "execution_count": null,
      "metadata": {
        "id": "nIMGgPblzbeI"
      },
      "outputs": [],
      "source": [
        "# Albanian stop words list\n",
        "\n",
        "\"\"\" Resource of Albainan stop words https://betimdrenica.com/2012/05/21/albanian-stop-words.html\"\"\"\n",
        "\n",
        "add_stopwords = [\"a\",\"apo\",\"asnjë\",\"asnje\",\"ata\",\"ato\",\"ca\",\"deri\",\"dhe\",\"do\",\"e\",\"i\",\n",
        "\"jam\",\"janë\",\"jane\",\"jemi\",\"jeni\",\"ju\",\"juaj\",\"kam\",\"kaq\",\"ke\",\"kemi\",\"kete\",\"këtë\",\n",
        "\"më\" ,\"me\",\"mu\",\"në\" ,\"ne\",\"nëse\",\"nese\"\"një\",\"nje\",\"nuk\",\"pa\",\"pas\",\"pasi\",\"për\",\"per\",\n",
        "\"prej\",\"që\",\"qe\",\"sa\",\"së\",\"se\",\"seç\" ,\"sec\"\"si\",\"saj\",\"të\",\"te\",\"ti\",\"tek\",\"tij\",\"tonë\", \"tone\",\n",
        "\"tuaj\",\"ty\",\"tyre\",\"unë\" ,\"une\",\"veç\", \"vec\"]\n",
        "\n",
        "# Define a custom transformer for removing punctuation from a text column\n",
        "class PunctuationRemover(Transformer, HasInputCol, HasOutputCol, DefaultParamsReadable, DefaultParamsWritable):\n",
        "    \"\"\"\n",
        "    A PySpark transformer for removing punctuation from a text column.\n",
        "    \"\"\"\n",
        "\n",
        "    def __init__(self, inputCol=None, outputCol=None):\n",
        "        \"\"\"\n",
        "        Initializes a new instance of the PunctuationRemover class.\n",
        "\n",
        "        Parameters:\n",
        "        - inputCol: The input column containing text data.\n",
        "        - outputCol: The output column to store the text with punctuation removed.\n",
        "        \"\"\"\n",
        "        super(PunctuationRemover, self).__init__()\n",
        "        self.inputCol = inputCol\n",
        "        self.outputCol = outputCol\n",
        "\n",
        "    def _transform(self, df):\n",
        "        \"\"\"\n",
        "        Transforms the input DataFrame by removing punctuation from the specified text column.\n",
        "\n",
        "        Parameters:\n",
        "        - df: The input DataFrame.\n",
        "\n",
        "        Returns:\n",
        "        - Transformed DataFrame with punctuation removed.\n",
        "        \"\"\"\n",
        "        # Create a User-Defined Function (UDF) to remove punctuation\n",
        "        remove_punct_udf = F.udf(lambda text: text.translate(str.maketrans('', '', string.punctuation)), StringType())\n",
        "\n",
        "        # Apply the UDF and add a new column with the result\n",
        "        return df.withColumn(self.outputCol, remove_punct_udf(self.inputCol))\n",
        "\n",
        "\n",
        "# Punctuation removal\n",
        "punct_remover = PunctuationRemover(inputCol=\"news_article\", outputCol=\"text_no_punct\")\n",
        "\n",
        "# Tokenization\n",
        "tokenizer = RegexTokenizer(inputCol=\"text_no_punct\", outputCol=\"words\", pattern=\"\\\\W\")\n",
        "\n",
        "# Stopwords removal\n",
        "remover = StopWordsRemover(inputCol=\"words\", outputCol=\"filtered\").setStopWords(add_stopwords)\n",
        "\n",
        "\n",
        "#Vectorization is a methodology in NLP to map words or phrases from vocabulary to a corresponding vector of real numbers which is used to find word predictions, word similarities/semantics.\n",
        "# Word to vector\n",
        "#w2v = Word2Vec(vectorSize=350, minCount=0, inputCol=\"filtered\", outputCol=\"features\")\n",
        "#TFIDF------------------------\n",
        "hashingTF = HashingTF(inputCol=\"filtered\", outputCol=\"rawFeatures\")\n",
        "idf = IDF(inputCol=\"rawFeatures\", outputCol=\"features\")\n",
        "\n",
        "# Label Indexer\n",
        "label_stringIdx = StringIndexer(inputCol=\"fake_news\", outputCol=\"label\")\n"
      ]
    },
    {
      "cell_type": "code",
      "execution_count": null,
      "metadata": {
        "colab": {
          "base_uri": "https://localhost:8080/"
        },
        "id": "-0UCFGmHozzO",
        "outputId": "02a63aca-27dd-4f74-cf07-1f2278206325"
      },
      "outputs": [
        {
          "output_type": "stream",
          "name": "stdout",
          "text": [
            "+---------+--------------------+--------------------+--------------------+--------------------+--------------------+--------------------+-----+\n",
            "|fake_news|        news_article|       text_no_punct|               words|            filtered|         rawFeatures|            features|label|\n",
            "+---------+--------------------+--------------------+--------------------+--------------------+--------------------+--------------------+-----+\n",
            "|     True|“Çartet“ Vjosa Os...|“Çartet“ Vjosa Os...|[artet, vjosa, os...|[artet, vjosa, os...|(262144,[253,6636...|(262144,[253,6636...|  1.0|\n",
            "|    False|Stafi i mediumit ...|Stafi i mediumit ...|[stafi, i, medium...|[stafi, mediumit,...|(262144,[5113,686...|(262144,[5113,686...|  0.0|\n",
            "|    False|Reja e Shkurte Fe...|Reja e Shkurte Fe...|[reja, e, shkurte...|[reja, shkurte, f...|(262144,[1303,482...|(262144,[1303,482...|  0.0|\n",
            "|    False|Gjykata Kushtetue...|Gjykata Kushtetue...|[gjykata, kushtet...|[gjykata, kushtet...|(262144,[253,1303...|(262144,[253,1303...|  0.0|\n",
            "|     True|Ajo që gjeti hetu...|Ajo që gjeti hetu...|[ajo, q, gjeti, h...|[ajo, q, gjeti, h...|(262144,[7122,101...|(262144,[7122,101...|  1.0|\n",
            "|     True|Skenari i Rusisë ...|Skenari i Rusisë ...|[skenari, i, rusi...|[skenari, rusis, ...|(262144,[253,1372...|(262144,[253,1372...|  1.0|\n",
            "|     True|C.mendet striptis...|Cmendet striptist...|[cmendet, stripti...|[cmendet, stripti...|(262144,[3386,818...|(262144,[3386,818...|  1.0|\n",
            "|     True|Isa Mustafa: I fi...|Isa Mustafa I fit...|[isa, mustafa, i,...|[isa, mustafa, fi...|(262144,[1225,130...|(262144,[1225,130...|  1.0|\n",
            "|     True|E FUNDIT / Në Ser...|E FUNDIT  Në Serb...|[e, fundit, n, se...|[fundit, n, serbi...|(262144,[12984,24...|(262144,[12984,24...|  1.0|\n",
            "|    False|Emiratet do të mb...|Emiratet do të mb...|[emiratet, do, t,...|[emiratet, t, mbu...|(262144,[1225,208...|(262144,[1225,208...|  0.0|\n",
            "+---------+--------------------+--------------------+--------------------+--------------------+--------------------+--------------------+-----+\n",
            "only showing top 10 rows\n",
            "\n"
          ]
        }
      ],
      "source": [
        "#pipleline for text pre-processing\n",
        "pipeline = Pipeline(stages = [punct_remover,tokenizer, remover, hashingTF, idf, label_stringIdx])\n",
        "\n",
        "#fit the data for the pipeline\n",
        "pipelineFit = pipeline.fit(df_new)\n",
        "dataset = pipelineFit.transform(df_new)\n",
        "\n",
        "# Show 10 random rows from the DataFrame\n",
        "dataset.orderBy(rand()).show(10)\n"
      ]
    },
    {
      "cell_type": "markdown",
      "metadata": {
        "id": "x5r9u6-vqSqw"
      },
      "source": [
        "The data is converted to numerical format and below shows the schema of the preprocessed data."
      ]
    },
    {
      "cell_type": "code",
      "execution_count": null,
      "metadata": {
        "colab": {
          "base_uri": "https://localhost:8080/"
        },
        "id": "pfmbSEBoqOWc",
        "outputId": "239b5cc5-5520-4811-f829-e081c63b152e"
      },
      "outputs": [
        {
          "output_type": "stream",
          "name": "stdout",
          "text": [
            "root\n",
            " |-- fake_news: string (nullable = true)\n",
            " |-- news_article: string (nullable = true)\n",
            " |-- text_no_punct: string (nullable = true)\n",
            " |-- words: array (nullable = true)\n",
            " |    |-- element: string (containsNull = true)\n",
            " |-- filtered: array (nullable = true)\n",
            " |    |-- element: string (containsNull = true)\n",
            " |-- rawFeatures: vector (nullable = true)\n",
            " |-- features: vector (nullable = true)\n",
            " |-- label: double (nullable = false)\n",
            "\n"
          ]
        }
      ],
      "source": [
        "#check the schema for preprocessed data\n",
        "dataset.printSchema()"
      ]
    },
    {
      "cell_type": "markdown",
      "metadata": {
        "id": "fWqq7zKHnslM"
      },
      "source": [
        "**Logistic Regression:**\n",
        "\n",
        "Description: Logistic Regression is a simple and interpretable model that works well for binary classification tasks.\n",
        "Advantages: Easy to interpret, computationally efficient, and works well with sparse data.\n",
        "Use Case: Logistic Regression can be a good starting point for binary classification tasks like fake news detection.\n",
        "\n",
        "**Random Forest:**\n",
        "\n",
        "Description: Random Forest is an ensemble learning method that builds multiple decision trees and merges their predictions.\n",
        "Advantages: Robust, handles high-dimensional data well, and less prone to overfitting compared to individual decision trees.\n",
        "Use Case: Random Forest can capture complex relationships in the data and is often used for text classification tasks.\n",
        "\n",
        "**Gradient-Boosted Trees (GBT):**\n",
        "\n",
        "Description: GBT is an ensemble learning method that builds a series of weak learners (typically decision trees) and combines their predictions.\n",
        "Advantages: Can capture complex relationships, often more accurate than individual decision trees, and handles imbalanced data well.\n",
        "Use Case: GBT can provide higher accuracy and capture intricate patterns in your fake news data.\n",
        "\n",
        "**Support Vector Machine (SVM):**\n",
        "\n",
        "Description: SVM is a powerful classification algorithm that finds the hyperplane that best separates the classes in the feature space.\n",
        "Advantages: Effective in high-dimensional spaces, versatile due to different kernel functions, and works well for both linear and non-linear data.\n",
        "Use Case: SVM can be applied to fake news detection by transforming text data into a high-dimensional feature space."
      ]
    },
    {
      "cell_type": "markdown",
      "metadata": {
        "id": "hPMkXtXAe-M_"
      },
      "source": [
        "**5. Function for Evaluation Metrics**\n",
        "\n",
        "This project is implmented using five machine learning algorithms. The performance of the models are evaluated confusion matrix, F1 score and Area under the curve. The model with less False positives and false negatives, high F1 score and AUC will be considered as a better model for fake news detection. Matplotlib and Numpy is used to plot the confusion matrix.\n"
      ]
    },
    {
      "cell_type": "code",
      "execution_count": null,
      "metadata": {
        "id": "TDFuVTYJxPHJ"
      },
      "outputs": [],
      "source": [
        "#function to calculate the evaluation metrics\n",
        "def evalualte_metrics(predictions):\n",
        "    '''Accuracy'''\n",
        "    #label = predictions.select(['prediction', 'label'])\n",
        "    evaluator = MulticlassClassificationEvaluator(labelCol = \"label\", predictionCol = \"prediction\", metricName = \"accuracy\")\n",
        "    accuracy = evaluator.evaluate(predictions)*100\n",
        "\n",
        "    #select prediction and label columns to calculate metric values\n",
        "    results = predictions.select(['prediction', 'label'])\n",
        "    #convert the results to rdd to get predictions and labels\n",
        "    predictionAndLabels = results.rdd\n",
        "\n",
        "\n",
        "    '''Area under the curve'''\n",
        "    binary_evaluator = BinaryClassificationMetrics(predictionAndLabels)\n",
        "    auc = binary_evaluator.areaUnderROC\n",
        "\n",
        "    '''Classification report'''\n",
        "    #create a multiclassmetrics instance\n",
        "    metrics = MulticlassMetrics(predictionAndLabels)\n",
        "\n",
        "    #compute Recall with respect to Real and fake news data\n",
        "    real_recall = metrics.recall(0.0)\n",
        "    fake_recall = metrics.recall(1.0)\n",
        "\n",
        "    #compute Precision with respect to Real and fake news data\n",
        "    real_precision = metrics.precision(0.0)\n",
        "    fake_precision = metrics.precision(1.0)\n",
        "\n",
        "    #compute F1 Score with respect to Real and fake news data\n",
        "    real_f1 = metrics.fMeasure(0.0)\n",
        "    fake_f1 = metrics.fMeasure(1.0)\n",
        "\n",
        "    #create a classificaiton report for the model\n",
        "    real = Row(News = 'Real', recall = real_recall, precision = real_precision, f1_score = real_f1)\n",
        "    fake = Row(News = 'Fake', recall = fake_recall, precision = fake_precision, f1_score = fake_f1)\n",
        "\n",
        "    classification_report = [real, fake]\n",
        "    classification_report_df = sql_context.createDataFrame(classification_report)\n",
        "\n",
        "    '''Confusion matrix'''\n",
        "    conf_matrix = metrics.confusionMatrix().toArray()\n",
        "\n",
        "    return accuracy, auc, classification_report_df, conf_matrix"
      ]
    },
    {
      "cell_type": "code",
      "execution_count": null,
      "metadata": {
        "id": "bPEg5cU_5EmE"
      },
      "outputs": [],
      "source": [
        "#function for confusion matrix\n",
        "def plot_confusion_matrix(cm, target_names, title='Confusion Matrix', cmap=plt.cm.Blues):\n",
        "    plt.imshow(cm, interpolation='nearest', cmap=cmap)\n",
        "    plt.title(title)\n",
        "    plt.colorbar()\n",
        "    tick_marks = np.arange(len(target_names))\n",
        "    plt.xticks(tick_marks, target_names)\n",
        "    plt.yticks(tick_marks, target_names)\n",
        "    plt.tight_layout()\n",
        "\n",
        "    width, height = cm.shape\n",
        "\n",
        "    for x in range(width):\n",
        "        for y in range(height):\n",
        "            plt.annotate(str(cm[x][y]), xy=(y, x),\n",
        "                        horizontalalignment='center',\n",
        "                        verticalalignment='center')\n",
        "\n",
        "    plt.ylabel('True Label')\n",
        "    plt.xlabel('Predicted Label')"
      ]
    },
    {
      "cell_type": "markdown",
      "metadata": {
        "id": "VOzL-cfx5Uq6"
      },
      "source": [
        "**6. Modelling**\n",
        "\n",
        "This section implements different algorithms to predict the fake news. Initially the data is split into train and test in the ratio 70:30 using randomSplit function."
      ]
    },
    {
      "cell_type": "code",
      "execution_count": null,
      "metadata": {
        "id": "c6eLfqIZ5PrQ"
      },
      "outputs": [],
      "source": [
        "from pyspark.ml.classification import LogisticRegression\n",
        "from pyspark.ml.tuning import ParamGridBuilder, CrossValidator\n",
        "from pyspark.ml.evaluation import BinaryClassificationEvaluator\n",
        "from pyspark.mllib.evaluation import BinaryClassificationMetrics\n"
      ]
    },
    {
      "cell_type": "code",
      "execution_count": null,
      "metadata": {
        "id": "c9yjqDde99xa"
      },
      "outputs": [],
      "source": [
        "#split the data\n",
        "train, test = dataset.randomSplit([0.8, 0.2])\n"
      ]
    },
    {
      "cell_type": "code",
      "execution_count": null,
      "metadata": {
        "colab": {
          "base_uri": "https://localhost:8080/"
        },
        "id": "0SNlesub-Wzu",
        "outputId": "df5ae85c-9725-4b44-d332-f5c28528376d"
      },
      "outputs": [
        {
          "output_type": "stream",
          "name": "stdout",
          "text": [
            "Training Dataset Count: 3204\n",
            "Test Dataset Count: 790\n"
          ]
        }
      ],
      "source": [
        "#check the train and test data count\n",
        "print(\"Training Dataset Count: \" + str(train.count()))\n",
        "print(\"Test Dataset Count: \" + str(test.count()))"
      ]
    },
    {
      "cell_type": "markdown",
      "metadata": {
        "id": "v8NHR8Eq-ZXF"
      },
      "source": [
        "## Logistic Regression Model"
      ]
    },
    {
      "cell_type": "code",
      "execution_count": null,
      "metadata": {
        "id": "hgKE6kAf7Qo1"
      },
      "outputs": [],
      "source": [
        "lr = LogisticRegression(labelCol=\"label\", featuresCol=\"features\")\n"
      ]
    },
    {
      "cell_type": "code",
      "execution_count": null,
      "metadata": {
        "id": "WQEKsdQ-7YL2"
      },
      "outputs": [],
      "source": [
        "#Create a parameter grid for tuning the model\n",
        "lrparamGrid = (ParamGridBuilder()\n",
        "             .addGrid(lr.regParam, [0.01, 0.1, 0.5, 1.0, 2.0])\n",
        "             .addGrid(lr.elasticNetParam, [0.0, 0.25, 0.5, 0.75, 1.0])\n",
        "             .addGrid(lr.maxIter, [1, 5, 10, 20, 50])\n",
        "             .build())"
      ]
    },
    {
      "cell_type": "code",
      "execution_count": null,
      "metadata": {
        "colab": {
          "base_uri": "https://localhost:8080/",
          "height": 36
        },
        "id": "HIwb0cHT7gTz",
        "outputId": "af4faceb-7c1d-4de5-95f1-38409d2ce290"
      },
      "outputs": [
        {
          "output_type": "execute_result",
          "data": {
            "text/plain": [
              "'lrcv = CrossValidator(estimator = lr,\\n                    estimatorParamMaps = lrparamGrid,\\n                    evaluator = evalualte_metrics(lr),\\n                    numFolds = 5)'"
            ],
            "application/vnd.google.colaboratory.intrinsic+json": {
              "type": "string"
            }
          },
          "metadata": {},
          "execution_count": 35
        }
      ],
      "source": [
        "# Create 5-fold CrossValidator\n",
        "\"\"\"lrcv = CrossValidator(estimator = lr,\n",
        "                    estimatorParamMaps = lrparamGrid,\n",
        "                    evaluator = evalualte_metrics(lr),\n",
        "                    numFolds = 5)\"\"\""
      ]
    },
    {
      "cell_type": "code",
      "execution_count": null,
      "metadata": {
        "colab": {
          "base_uri": "https://localhost:8080/"
        },
        "id": "ceM9LRF89xdM",
        "outputId": "163424d5-9c16-46a5-ee33-b4f368a4b47d"
      },
      "outputs": [
        {
          "output_type": "stream",
          "name": "stdout",
          "text": [
            "LogisticRegressionModel: uid=LogisticRegression_35c9cbe3478c, numClasses=2, numFeatures=262144\n"
          ]
        }
      ],
      "source": [
        "\n",
        "#Fit the model to the data\n",
        "lrModel = lr.fit(train)\n",
        "lr_predictions = lrModel.transform(test)\n",
        "print(lrModel)\n"
      ]
    },
    {
      "cell_type": "code",
      "execution_count": null,
      "metadata": {
        "id": "extpqhXxBA1J",
        "colab": {
          "base_uri": "https://localhost:8080/"
        },
        "outputId": "d55105aa-a638-462d-db29-ba2efd434b2a"
      },
      "outputs": [
        {
          "output_type": "stream",
          "name": "stderr",
          "text": [
            "/usr/local/lib/python3.10/dist-packages/pyspark/sql/context.py:158: FutureWarning: Deprecated in 3.0.0. Use SparkSession.builder.getOrCreate() instead.\n",
            "  warnings.warn(\n",
            "/usr/local/lib/python3.10/dist-packages/pyspark/sql/context.py:158: FutureWarning: Deprecated in 3.0.0. Use SparkSession.builder.getOrCreate() instead.\n",
            "  warnings.warn(\n"
          ]
        }
      ],
      "source": [
        "#calculate the evaluation metrics of LogisticRegression model\n",
        "lr_accuracy, lr_auc, lr_classification_report_df, lr_conf_matrix = evalualte_metrics(lr_predictions)"
      ]
    },
    {
      "cell_type": "code",
      "execution_count": null,
      "metadata": {
        "colab": {
          "base_uri": "https://localhost:8080/"
        },
        "id": "uPQ4d_AsDy4t",
        "outputId": "2e212885-dc0c-4568-92a8-c80688815fe3"
      },
      "outputs": [
        {
          "output_type": "stream",
          "name": "stdout",
          "text": [
            "Logistic Regression accuracy is: 79.75\n",
            "Logistic Regression AUC is: 0.80\n"
          ]
        }
      ],
      "source": [
        "#print the auuracy and area under the curve\n",
        "print(\"Logistic Regression accuracy is: {:0.2f}\".format(lr_accuracy))\n",
        "print(\"Logistic Regression AUC is: {:0.2f}\".format(lr_auc))"
      ]
    },
    {
      "cell_type": "code",
      "execution_count": null,
      "metadata": {
        "colab": {
          "base_uri": "https://localhost:8080/"
        },
        "id": "dI1JSI9VEB4L",
        "outputId": "fd6eba5d-f61d-48a1-fb30-08165da510f3"
      },
      "outputs": [
        {
          "output_type": "stream",
          "name": "stdout",
          "text": [
            "+----+------------------+------------------+------------------+\n",
            "|News|            recall|         precision|          f1_score|\n",
            "+----+------------------+------------------+------------------+\n",
            "|Real|0.7135802469135802|0.8678678678678678|0.7831978319783197|\n",
            "|Fake|0.8857142857142857|0.7461706783369803|0.8099762470308789|\n",
            "+----+------------------+------------------+------------------+\n",
            "\n"
          ]
        }
      ],
      "source": [
        "#display the classification report\n",
        "lr_classification_report_df.show()"
      ]
    },
    {
      "cell_type": "code",
      "execution_count": null,
      "metadata": {
        "colab": {
          "base_uri": "https://localhost:8080/"
        },
        "id": "5ObVul4ZEYYb",
        "outputId": "9e7d1018-2a3f-44db-c02f-e7b656355cf8"
      },
      "outputs": [
        {
          "output_type": "stream",
          "name": "stdout",
          "text": [
            "Confusion Matrix\n",
            "[[289. 116.]\n",
            " [ 44. 341.]]\n"
          ]
        }
      ],
      "source": [
        "#print the confusion matrix\n",
        "print(\"Confusion Matrix\")\n",
        "print(lr_conf_matrix)"
      ]
    },
    {
      "cell_type": "code",
      "execution_count": null,
      "metadata": {
        "colab": {
          "base_uri": "https://localhost:8080/",
          "height": 506
        },
        "id": "qtqyssL8Ee_1",
        "outputId": "c235572c-43b2-4cd3-fe7f-3917d6a9caf6"
      },
      "outputs": [
        {
          "output_type": "display_data",
          "data": {
            "text/plain": [
              "<Figure size 640x480 with 2 Axes>"
            ],
            "image/png": "[encoded data removed]"
          },
          "metadata": {}
        }
      ],
      "source": [
        "#plot confusion matrix\n",
        "plot_confusion_matrix(lr_conf_matrix,[\"Fake\",\"Real\"])"
      ]
    },
    {
      "cell_type": "markdown",
      "metadata": {
        "id": "uaQVcSeXGBSZ"
      },
      "source": [
        "## Random Forest Model"
      ]
    },
    {
      "cell_type": "code",
      "execution_count": null,
      "metadata": {
        "id": "i70AxZHJEjwT"
      },
      "outputs": [],
      "source": [
        "from pyspark.ml.classification import RandomForestClassifier, DecisionTreeClassifier\n",
        "from pyspark.ml.tuning import ParamGridBuilder, CrossValidator\n",
        "from pyspark.ml.evaluation import BinaryClassificationEvaluator"
      ]
    },
    {
      "cell_type": "code",
      "execution_count": null,
      "metadata": {
        "id": "LfTJOMwsGGBE"
      },
      "outputs": [],
      "source": [
        "rf = RandomForestClassifier(labelCol=\"label\", featuresCol=\"features\")"
      ]
    },
    {
      "cell_type": "code",
      "execution_count": null,
      "metadata": {
        "colab": {
          "base_uri": "https://localhost:8080/"
        },
        "id": "AToTgR1fGjej",
        "outputId": "b8e8237d-fa4b-4003-88f5-5b224655991b"
      },
      "outputs": [
        {
          "output_type": "stream",
          "name": "stdout",
          "text": [
            "RandomForestClassificationModel: uid=RandomForestClassifier_2072fc35257c, numTrees=20, numClasses=2, numFeatures=262144\n"
          ]
        }
      ],
      "source": [
        "#Fit the model to the data\n",
        "rfModel = rf.fit(train)\n",
        "rf_predictions = rfModel.transform(test)\n",
        "print(rfModel)"
      ]
    },
    {
      "cell_type": "code",
      "execution_count": null,
      "metadata": {
        "id": "Lf2KquTgGwxr"
      },
      "outputs": [],
      "source": [
        "#calculate the evaluation metrics of LogisticRegression model\n",
        "rf_accuracy, rf_auc, rf_classification_report_df, rf_conf_matrix = evalualte_metrics(rf_predictions)"
      ]
    },
    {
      "cell_type": "code",
      "execution_count": null,
      "metadata": {
        "colab": {
          "base_uri": "https://localhost:8080/"
        },
        "id": "25Fh-yQiG3S-",
        "outputId": "c26ac932-fcd6-4bfe-f201-33e603b9e544"
      },
      "outputs": [
        {
          "output_type": "stream",
          "name": "stdout",
          "text": [
            "Random Forest accuracy is: 77.59\n",
            "Random Forest AUC is: 0.78\n"
          ]
        }
      ],
      "source": [
        "#print the auuracy and area under the curve\n",
        "print(\"Random Forest accuracy is: {:0.2f}\".format(rf_accuracy))\n",
        "print(\"Random Forest AUC is: {:0.2f}\".format(rf_auc))"
      ]
    },
    {
      "cell_type": "code",
      "execution_count": null,
      "metadata": {
        "colab": {
          "base_uri": "https://localhost:8080/"
        },
        "id": "pw8HUXfzG9Nd",
        "outputId": "4a71e2b2-ba08-45f4-a036-4fa224ed163c"
      },
      "outputs": [
        {
          "output_type": "stream",
          "name": "stdout",
          "text": [
            "+----+------------------+------------------+------------------+\n",
            "|News|            recall|         precision|          f1_score|\n",
            "+----+------------------+------------------+------------------+\n",
            "|Real|0.7135802469135802|0.8257142857142857|0.7655629139072848|\n",
            "|Fake|0.8415584415584415|0.7363636363636363|0.7854545454545455|\n",
            "+----+------------------+------------------+------------------+\n",
            "\n"
          ]
        }
      ],
      "source": [
        "#display the classification report\n",
        "rf_classification_report_df.show()"
      ]
    },
    {
      "cell_type": "code",
      "execution_count": null,
      "metadata": {
        "colab": {
          "base_uri": "https://localhost:8080/"
        },
        "id": "6UHNZ5SBHLay",
        "outputId": "3f5abc36-1550-4e06-9422-79d10ee849bf"
      },
      "outputs": [
        {
          "output_type": "stream",
          "name": "stdout",
          "text": [
            "Confusion Matrix\n",
            "[[289. 116.]\n",
            " [ 61. 324.]]\n"
          ]
        }
      ],
      "source": [
        "#print the confusion matrix\n",
        "print(\"Confusion Matrix\")\n",
        "print(rf_conf_matrix)"
      ]
    },
    {
      "cell_type": "code",
      "execution_count": null,
      "metadata": {
        "colab": {
          "base_uri": "https://localhost:8080/",
          "height": 506
        },
        "id": "xnHGzHKSHP6K",
        "outputId": "f9c4405f-d07d-4fa4-82a3-2ad21a61d401"
      },
      "outputs": [
        {
          "output_type": "display_data",
          "data": {
            "text/plain": [
              "<Figure size 640x480 with 2 Axes>"
            ],
            "image/png": "[encoded data removed]"
          },
          "metadata": {}
        }
      ],
      "source": [
        "#plot confusion matrix\n",
        "plot_confusion_matrix(rf_conf_matrix,[\"Fake\",\"Real\"])"
      ]
    },
    {
      "cell_type": "markdown",
      "metadata": {
        "id": "A8FEwI6eu9WV"
      },
      "source": [
        "## **Decision Tree Model**\n"
      ]
    },
    {
      "cell_type": "code",
      "execution_count": null,
      "metadata": {
        "id": "8h3G7iqSHu6Y"
      },
      "outputs": [],
      "source": [
        "from pyspark.ml.classification import DecisionTreeClassifier\n",
        "#define decision tree\n",
        "dt = DecisionTreeClassifier(labelCol=\"label\", featuresCol = \"features\")\n",
        "\n",
        "#train the model and predict on test data\n",
        "dtModel = dt.fit(train)\n",
        "dt_predictions = dtModel.transform(test)"
      ]
    },
    {
      "cell_type": "code",
      "execution_count": null,
      "metadata": {
        "id": "XpkMPenyICqq"
      },
      "outputs": [],
      "source": [
        "#calculate the evaluation metrics of decision tree model\n",
        "dt_accuracy, dt_auc, dt_classification_report_df, dt_conf_matrix = evalualte_metrics(dt_predictions)"
      ]
    },
    {
      "cell_type": "code",
      "execution_count": null,
      "metadata": {
        "colab": {
          "base_uri": "https://localhost:8080/"
        },
        "id": "wS_kS7EpIQl_",
        "outputId": "83756854-d835-4a14-918f-f654ccccf445"
      },
      "outputs": [
        {
          "output_type": "stream",
          "name": "stdout",
          "text": [
            "Decision Tree accuracy is: 80.38\n",
            "Decision Tree AUC is: 0.80\n"
          ]
        }
      ],
      "source": [
        "#print the auuracy and area under the curve\n",
        "print(\"Decision Tree accuracy is: {:0.2f}\".format(dt_accuracy))\n",
        "print(\"Decision Tree AUC is: {:0.2f}\".format(dt_auc))"
      ]
    },
    {
      "cell_type": "code",
      "execution_count": null,
      "metadata": {
        "colab": {
          "base_uri": "https://localhost:8080/"
        },
        "id": "IgUPYB6eIVqk",
        "outputId": "3c2cca62-b1c3-438e-cdb3-b9e7343cbe13"
      },
      "outputs": [
        {
          "output_type": "stream",
          "name": "stdout",
          "text": [
            "+----+------------------+------------------+------------------+\n",
            "|News|            recall|         precision|          f1_score|\n",
            "+----+------------------+------------------+------------------+\n",
            "|Real|0.9975308641975309|0.7240143369175627|0.8390446521287642|\n",
            "|Fake|               0.6|0.9956896551724138|0.7487844408427876|\n",
            "+----+------------------+------------------+------------------+\n",
            "\n"
          ]
        }
      ],
      "source": [
        "#display the classification report\n",
        "dt_classification_report_df.show()"
      ]
    },
    {
      "cell_type": "code",
      "execution_count": null,
      "metadata": {
        "colab": {
          "base_uri": "https://localhost:8080/"
        },
        "id": "b7Es7cB2IX8f",
        "outputId": "8e917bab-bfe4-4559-f099-4e4426e50e32"
      },
      "outputs": [
        {
          "output_type": "stream",
          "name": "stdout",
          "text": [
            "Confusion Matrix\n",
            "[[404.   1.]\n",
            " [154. 231.]]\n"
          ]
        }
      ],
      "source": [
        "#print the confusion matrix\n",
        "print(\"Confusion Matrix\")\n",
        "print(dt_conf_matrix)"
      ]
    },
    {
      "cell_type": "code",
      "execution_count": null,
      "metadata": {
        "colab": {
          "base_uri": "https://localhost:8080/",
          "height": 506
        },
        "id": "_W3L3ZssIbA6",
        "outputId": "07f4f5b1-2ffa-4445-c294-ce3eb7a4297e"
      },
      "outputs": [
        {
          "output_type": "display_data",
          "data": {
            "text/plain": [
              "<Figure size 640x480 with 2 Axes>"
            ],
            "image/png": "[encoded data removed]"
          },
          "metadata": {}
        }
      ],
      "source": [
        "#plot confusion matrix\n",
        "plot_confusion_matrix(dt_conf_matrix,[\"Fake\",\"Real\"])"
      ]
    },
    {
      "cell_type": "markdown",
      "metadata": {
        "id": "2DPNMUhDIdL4"
      },
      "source": [
        "## Naive Bayes"
      ]
    },
    {
      "cell_type": "code",
      "execution_count": null,
      "metadata": {
        "id": "Haw2FRxRDsZu"
      },
      "outputs": [],
      "source": [
        "from pyspark.ml.classification import NaiveBayes\n",
        "\n",
        "from pyspark.ml.tuning import ParamGridBuilder, CrossValidator\n",
        "from pyspark.ml.evaluation import BinaryClassificationEvaluator\n",
        "from pyspark.mllib.evaluation import BinaryClassificationMetrics"
      ]
    },
    {
      "cell_type": "code",
      "execution_count": null,
      "metadata": {
        "id": "xhczXElwDt-X"
      },
      "outputs": [],
      "source": [
        "nb = NaiveBayes(labelCol=\"label\", featuresCol=\"features\")"
      ]
    },
    {
      "cell_type": "code",
      "execution_count": null,
      "metadata": {
        "id": "byrvuRGVD02L"
      },
      "outputs": [],
      "source": [
        "#train the model and predict on test data\n",
        "nbModel = nb.fit(train)\n",
        "nb_predictions = nbModel.transform(test)"
      ]
    },
    {
      "cell_type": "code",
      "execution_count": null,
      "metadata": {
        "id": "CAmfoanLMD8j"
      },
      "outputs": [],
      "source": [
        "#calculate the evaluation metrics of decision tree model\n",
        "nb_accuracy, nb_auc, nb_classification_report_df, nb_conf_matrix = evalualte_metrics(nb_predictions)"
      ]
    },
    {
      "cell_type": "code",
      "execution_count": null,
      "metadata": {
        "colab": {
          "base_uri": "https://localhost:8080/"
        },
        "id": "IyAjsNPtMSF2",
        "outputId": "d2e20f62-4480-4538-db38-aaed6a0aa3dd"
      },
      "outputs": [
        {
          "output_type": "stream",
          "name": "stdout",
          "text": [
            "Naive Bayes accuracy is: 83.04\n",
            "Naive Bayes AUC is: 0.83\n"
          ]
        }
      ],
      "source": [
        "#print the auuracy and area under the curve\n",
        "print(\"Naive Bayes accuracy is: {:0.2f}\".format(nb_accuracy))\n",
        "print(\"Naive Bayes AUC is: {:0.2f}\".format(nb_auc))"
      ]
    },
    {
      "cell_type": "code",
      "execution_count": null,
      "metadata": {
        "colab": {
          "base_uri": "https://localhost:8080/"
        },
        "id": "gNOmeJt1MdJO",
        "outputId": "aebeabdf-37f8-4dfd-a18e-fb8ef6c07419"
      },
      "outputs": [
        {
          "output_type": "stream",
          "name": "stdout",
          "text": [
            "+----+------------------+------------------+------------------+\n",
            "|News|            recall|         precision|          f1_score|\n",
            "+----+------------------+------------------+------------------+\n",
            "|Real|0.8765432098765432|0.8086560364464692|0.8412322274881516|\n",
            "|Fake|0.7818181818181819|0.8575498575498576|0.8179347826086957|\n",
            "+----+------------------+------------------+------------------+\n",
            "\n"
          ]
        }
      ],
      "source": [
        "#display the classification report\n",
        "nb_classification_report_df.show()"
      ]
    },
    {
      "cell_type": "code",
      "execution_count": null,
      "metadata": {
        "colab": {
          "base_uri": "https://localhost:8080/"
        },
        "id": "hXkOk_zRMuqj",
        "outputId": "e524eb0e-e393-411d-a388-3714029b21e2"
      },
      "outputs": [
        {
          "output_type": "stream",
          "name": "stdout",
          "text": [
            "Confusion Matrix\n",
            "[[355.  50.]\n",
            " [ 84. 301.]]\n"
          ]
        }
      ],
      "source": [
        "#print the confusion matrix\n",
        "print(\"Confusion Matrix\")\n",
        "print(nb_conf_matrix)"
      ]
    },
    {
      "cell_type": "code",
      "execution_count": null,
      "metadata": {
        "colab": {
          "base_uri": "https://localhost:8080/",
          "height": 506
        },
        "id": "0t5vKc34MxTy",
        "outputId": "225b4fd2-c624-4896-a61d-c7b288f9bcf7"
      },
      "outputs": [
        {
          "output_type": "display_data",
          "data": {
            "text/plain": [
              "<Figure size 640x480 with 2 Axes>"
            ],
            "image/png": "[encoded data removed]"
          },
          "metadata": {}
        }
      ],
      "source": [
        "#plot confusion matrix\n",
        "plot_confusion_matrix(nb_conf_matrix,[\"Fake\",\"Real\"])"
      ]
    },
    {
      "cell_type": "markdown",
      "metadata": {
        "id": "6u2cY14oXMXL"
      },
      "source": [
        "#Gradient-Boosted Tree"
      ]
    },
    {
      "cell_type": "code",
      "execution_count": null,
      "metadata": {
        "id": "_QeJp6J9XSi6"
      },
      "outputs": [],
      "source": [
        "from pyspark.ml.classification import GBTClassifier\n",
        "from pyspark.ml.tuning import ParamGridBuilder, CrossValidator\n",
        "from pyspark.ml.evaluation import BinaryClassificationEvaluator"
      ]
    },
    {
      "cell_type": "code",
      "execution_count": null,
      "metadata": {
        "id": "GXx6xMwbXYY2"
      },
      "outputs": [],
      "source": [
        "gb = GBTClassifier(labelCol=\"label\", featuresCol=\"features\")"
      ]
    },
    {
      "cell_type": "code",
      "execution_count": null,
      "metadata": {
        "id": "eGc_yupTaFyZ"
      },
      "outputs": [],
      "source": [
        "#train the model and predict on test data\n",
        "gbModel = gb.fit(train)\n",
        "gb_predictions = gbModel.transform(test)"
      ]
    },
    {
      "cell_type": "code",
      "execution_count": null,
      "metadata": {
        "id": "Q9LW0SJMaHax"
      },
      "outputs": [],
      "source": [
        "#calculate the evaluation metrics of decision tree model\n",
        "gb_accuracy, gb_auc, gb_classification_report_df, gb_conf_matrix = evalualte_metrics(gb_predictions)"
      ]
    },
    {
      "cell_type": "code",
      "execution_count": null,
      "metadata": {
        "colab": {
          "base_uri": "https://localhost:8080/"
        },
        "id": "aLJi6Nd3aPkg",
        "outputId": "59acd7ea-167b-4aa4-bd58-e421b954134a"
      },
      "outputs": [
        {
          "output_type": "stream",
          "name": "stdout",
          "text": [
            "Gardient Booster accuracy is: 85.70\n",
            "Gardient Booster AUC is: 0.86\n"
          ]
        }
      ],
      "source": [
        "#print the auuracy and area under the curve\n",
        "print(\"Gardient Booster accuracy is: {:0.2f}\".format(gb_accuracy))\n",
        "print(\"Gardient Booster AUC is: {:0.2f}\".format(gb_auc))"
      ]
    },
    {
      "cell_type": "code",
      "execution_count": null,
      "metadata": {
        "colab": {
          "base_uri": "https://localhost:8080/"
        },
        "id": "4z0Xu1B2acg3",
        "outputId": "7056ef3b-3c4e-48d7-90c0-dc8a15185e68"
      },
      "outputs": [
        {
          "output_type": "stream",
          "name": "stdout",
          "text": [
            "+----+------------------+------------------+------------------+\n",
            "|News|            recall|         precision|          f1_score|\n",
            "+----+------------------+------------------+------------------+\n",
            "|Real|0.9185185185185185|0.8230088495575221| 0.868144690781797|\n",
            "|Fake|0.7922077922077922|0.9023668639053254|0.8437067773167359|\n",
            "+----+------------------+------------------+------------------+\n",
            "\n"
          ]
        }
      ],
      "source": [
        "#display the classification report\n",
        "gb_classification_report_df.show()"
      ]
    },
    {
      "cell_type": "code",
      "execution_count": null,
      "metadata": {
        "colab": {
          "base_uri": "https://localhost:8080/"
        },
        "id": "K4gJ3CP3agkQ",
        "outputId": "fb809e6d-7445-491a-f78e-0e069fec0fc4"
      },
      "outputs": [
        {
          "output_type": "stream",
          "name": "stdout",
          "text": [
            "Confusion Matrix\n",
            "[[372.  33.]\n",
            " [ 80. 305.]]\n"
          ]
        }
      ],
      "source": [
        "#print the confusion matrix\n",
        "print(\"Confusion Matrix\")\n",
        "print(gb_conf_matrix)"
      ]
    },
    {
      "cell_type": "code",
      "execution_count": null,
      "metadata": {
        "colab": {
          "base_uri": "https://localhost:8080/"
        },
        "id": "ZiEWDAZMapDF",
        "outputId": "9fdcfe6f-45e0-40f6-d7d7-762f8711c5b7"
      },
      "outputs": [
        {
          "output_type": "display_data",
          "data": {
            "text/plain": [
              "<Figure size 640x480 with 2 Axes>"
            ],
            "image/png": "[encoded data removed]"
          },
          "metadata": {}
        }
      ],
      "source": [
        "#plot confusion matrix\n",
        "plot_confusion_matrix(gb_conf_matrix,[\"Fake\",\"Real\"])"
      ]
    },
    {
      "cell_type": "markdown",
      "metadata": {
        "id": "Q48bg6Mvd3RQ"
      },
      "source": [
        "###. **Linear SVC - linear support vector machine classifier**"
      ]
    },
    {
      "cell_type": "code",
      "execution_count": null,
      "metadata": {
        "colab": {
          "base_uri": "https://localhost:8080/"
        },
        "id": "sm_4jbrvQWMV",
        "outputId": "48ff054e-6cea-414d-d1dc-8e698af292ab"
      },
      "outputs": [
        {
          "output_type": "stream",
          "name": "stdout",
          "text": [
            "Linear SVC accuracy is: 86.58\n",
            "Linear SVC AUC is: 0.87\n"
          ]
        }
      ],
      "source": [
        "\n",
        "from pyspark.ml.classification import LinearSVC\n",
        "from pyspark.ml.evaluation import MulticlassClassificationEvaluator\n",
        "\n",
        "# Train the model\n",
        "classifier = LinearSVC(maxIter=1000)\n",
        "model = classifier.fit(train)\n",
        "\n",
        "# Make predictions\n",
        "lsvc_predictions = model.transform(test)\n",
        "\n",
        "# Evaluate accuracy\n",
        "evaluator = MulticlassClassificationEvaluator(labelCol=\"label\", predictionCol=\"prediction\", metricName=\"accuracy\")\n",
        "#calculate the evaluation metrics of decision tree model\n",
        "lsvc_accuracy, lsvc_auc, lsvc_classification_report_df, lsvc_conf_matrix = evalualte_metrics(lsvc_predictions)\n",
        "#print the auuracy and area under the curve\n",
        "print(\"Linear SVC accuracy is: {:0.2f}\".format(lsvc_accuracy))\n",
        "print(\"Linear SVC AUC is: {:0.2f}\".format(lsvc_auc))\n"
      ]
    },
    {
      "cell_type": "code",
      "execution_count": null,
      "metadata": {
        "colab": {
          "base_uri": "https://localhost:8080/"
        },
        "id": "QkFx2MKzPgQX",
        "outputId": "1ae6e6af-6451-4a1e-eda5-7d2604fb686c"
      },
      "outputs": [
        {
          "output_type": "stream",
          "name": "stdout",
          "text": [
            "+----+------------------+------------------+------------------+\n",
            "|News|            recall|         precision|          f1_score|\n",
            "+----+------------------+------------------+------------------+\n",
            "|Real|0.8493827160493828| 0.884318766066838|0.8664987405541562|\n",
            "|Fake|0.8831168831168831|0.8478802992518704|0.8651399491094148|\n",
            "+----+------------------+------------------+------------------+\n",
            "\n"
          ]
        }
      ],
      "source": [
        "#display the classification report\n",
        "lsvc_classification_report_df.show()"
      ]
    },
    {
      "cell_type": "code",
      "execution_count": null,
      "metadata": {
        "id": "JMJ98Nie5cvE"
      },
      "outputs": [],
      "source": [
        "# Save the model using PySpark's save method\n",
        "model.save(\"model_path\")\n",
        "\n",
        "# Load the model in Flask\n",
        "from pyspark.ml.classification import LinearSVCModel\n",
        "\n",
        "# Load the model from the saved directory\n",
        "model = LinearSVCModel.load(\"model_path\")\n",
        "\n",
        "# Save the pipeline using PySpark's save method\n",
        "pipelineFit.save(\"pipeline_path\")"
      ]
    },
    {
      "cell_type": "code",
      "execution_count": null,
      "metadata": {
        "colab": {
          "base_uri": "https://localhost:8080/"
        },
        "id": "Nv2e2hd3z3ir",
        "outputId": "9421142b-7112-4210-937f-7cbd46598e53"
      },
      "outputs": [
        {
          "output_type": "stream",
          "name": "stdout",
          "text": [
            "Requirement already satisfied: flask in /usr/local/lib/python3.10/dist-packages (2.2.5)\n",
            "Requirement already satisfied: Werkzeug>=2.2.2 in /usr/local/lib/python3.10/dist-packages (from flask) (3.0.2)\n",
            "Requirement already satisfied: Jinja2>=3.0 in /usr/local/lib/python3.10/dist-packages (from flask) (3.1.3)\n",
            "Requirement already satisfied: itsdangerous>=2.0 in /usr/local/lib/python3.10/dist-packages (from flask) (2.1.2)\n",
            "Requirement already satisfied: click>=8.0 in /usr/local/lib/python3.10/dist-packages (from flask) (8.1.7)\n",
            "Requirement already satisfied: MarkupSafe>=2.0 in /usr/local/lib/python3.10/dist-packages (from Jinja2>=3.0->flask) (2.1.5)\n",
            "--2024-04-18 04:50:51--  https://bin.equinox.io/c/4VmDzA7iaHb/ngrok-stable-linux-amd64.zip\n",
            "Resolving bin.equinox.io (bin.equinox.io)... 54.237.133.81, 54.161.241.46, 52.202.168.65, ...\n",
            "Connecting to bin.equinox.io (bin.equinox.io)|54.237.133.81|:443... connected.\n",
            "HTTP request sent, awaiting response... 200 OK\n",
            "Length: 13921656 (13M) [application/octet-stream]\n",
            "Saving to: ‘ngrok-stable-linux-amd64.zip’\n",
            "\n",
            "ngrok-stable-linux- 100%[===================>]  13.28M  5.59MB/s    in 2.4s    \n",
            "\n",
            "2024-04-18 04:50:54 (5.59 MB/s) - ‘ngrok-stable-linux-amd64.zip’ saved [13921656/13921656]\n",
            "\n",
            "Archive:  ngrok-stable-linux-amd64.zip\n",
            "  inflating: ngrok                   \n"
          ]
        }
      ],
      "source": [
        "!pip install flask\n",
        "!wget https://bin.equinox.io/c/4VmDzA7iaHb/ngrok-stable-linux-amd64.zip\n",
        "!unzip ngrok-stable-linux-amd64.zip\n"
      ]
    },
    {
      "cell_type": "markdown",
      "metadata": {
        "id": "zChpZ2Rljxg2"
      },
      "source": [
        "Created a Flask application to serve our model"
      ]
    },
    {
      "cell_type": "code",
      "execution_count": null,
      "metadata": {
        "id": "gvKUjuO2jwi8"
      },
      "outputs": [],
      "source": [
        "from flask import Flask, request, jsonify, render_template\n",
        "from pyspark.ml.classification import LinearSVCModel\n",
        "\n",
        "app = Flask(__name__)\n",
        "\n",
        "# Load the PySpark model\n",
        "model = LinearSVCModel.load(\"model_path\")\n"
      ]
    },
    {
      "cell_type": "code",
      "execution_count": null,
      "metadata": {
        "id": "K80h0_nbpaBs"
      },
      "outputs": [],
      "source": [
        "# Default page of our web-app\n",
        "@app.route('/')\n",
        "def home():\n",
        "    #return render_template('index.html')\n",
        "    return \"Hello World\""
      ]
    },
    {
      "cell_type": "code",
      "execution_count": null,
      "metadata": {
        "colab": {
          "base_uri": "https://localhost:8080/"
        },
        "id": "CUCErEcrkBZO",
        "outputId": "ceba801a-5306-4b80-fcb5-8d735cae5a11"
      },
      "outputs": [
        {
          "output_type": "stream",
          "name": "stdout",
          "text": [
            " * Serving Flask app '__main__'\n",
            " * Debug mode: on\n"
          ]
        },
        {
          "output_type": "stream",
          "name": "stderr",
          "text": [
            "INFO:werkzeug:\u001b[31m\u001b[1mWARNING: This is a development server. Do not use it in a production deployment. Use a production WSGI server instead.\u001b[0m\n",
            " * Running on all addresses (0.0.0.0)\n",
            " * Running on http://127.0.0.1:5000\n",
            " * Running on http://172.28.0.12:5000\n",
            "INFO:werkzeug:\u001b[33mPress CTRL+C to quit\u001b[0m\n",
            "INFO:werkzeug: * Restarting with stat\n"
          ]
        }
      ],
      "source": [
        "if __name__ == '__main__':\n",
        "    app.run(host='0.0.0.0', debug=True)\n"
      ]
    },
    {
      "cell_type": "code",
      "execution_count": null,
      "metadata": {
        "id": "4F9AUBbRj-FP"
      },
      "outputs": [],
      "source": [
        "@app.route('/predict', methods=['POST'])\n",
        "def predict():\n",
        "    # Get input data from client\n",
        "    data = request.json\n",
        "\n",
        "    # Preprocess input data using the loaded pipeline\n",
        "    processed_data = pipeline.transform(json.dumps(data))\n",
        "\n",
        "    # Make predictions using the loaded model\n",
        "    prediction = model.transform(processed_data)\n",
        "\n",
        "    # Extract prediction result\n",
        "    prediction_result = prediction.select('prediction').collect()[0][0]\n",
        "\n",
        "    # Convert prediction to human-readable format\n",
        "    prediction_label = \"Fake\" if prediction_result == 1 else \"Real\"\n",
        "\n",
        "    # Return prediction result to client\n",
        "    return jsonify({'prediction': prediction_label})"
      ]
    }
  ],
  "metadata": {
    "accelerator": "GPU",
    "colab": {
      "gpuType": "T4",
      "provenance": [],
      "mount_file_id": "1FIB-9cha7XxyiBrs2crLkR-NX8y0IcvO",
      "authorship_tag": "ABX9TyNltNHIzrs3WyUtI5R+ypyo",
      "include_colab_link": true
    },
    "kernelspec": {
      "display_name": "Python 3",
      "name": "python3"
    },
    "language_info": {
      "name": "python"
    }
  },
  "nbformat": 4,
  "nbformat_minor": 0
}