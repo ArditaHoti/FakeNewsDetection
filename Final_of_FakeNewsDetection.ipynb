{
  "cells": [
    {
      "cell_type": "markdown",
      "metadata": {
        "id": "view-in-github",
        "colab_type": "text"
      },
      "source": [
        "<a href=\"https://colab.research.google.com/github/ArditaHoti/FakeNewsDetection/blob/main/Final_of_FakeNewsDetection.ipynb\" target=\"_parent\"><img src=\"https://colab.research.google.com/assets/colab-badge.svg\" alt=\"Open In Colab\"/></a>"
      ]
    },
    {
      "cell_type": "code",
      "execution_count": null,
      "metadata": {
        "colab": {
          "base_uri": "https://localhost:8080/"
        },
        "id": "lAPOgGJufLQL",
        "outputId": "c9bb8a2b-c821-4c57-884f-17cd5bf5e253"
      },
      "outputs": [
        {
          "name": "stdout",
          "output_type": "stream",
          "text": [
            "Mounted at /content/drive\n"
          ]
        }
      ],
      "source": [
        "from google.colab import drive\n",
        "drive.mount('/content/drive')"
      ]
    },
    {
      "cell_type": "code",
      "execution_count": null,
      "metadata": {
        "colab": {
          "base_uri": "https://localhost:8080/"
        },
        "id": "qkdn_MyRG2jx",
        "outputId": "635ba575-b000-4d5b-f6df-dded947dbd81"
      },
      "outputs": [
        {
          "name": "stdout",
          "output_type": "stream",
          "text": [
            "Collecting pyspark\n",
            "  Downloading pyspark-3.5.2.tar.gz (317.3 MB)\n",
            "\u001b[2K     \u001b[90m━━━━━━━━━━━━━━━━━━━━━━━━━━━━━━━━━━━━━━━━\u001b[0m \u001b[32m317.3/317.3 MB\u001b[0m \u001b[31m4.0 MB/s\u001b[0m eta \u001b[36m0:00:00\u001b[0m\n",
            "\u001b[?25h  Preparing metadata (setup.py) ... \u001b[?25l\u001b[?25hdone\n",
            "Requirement already satisfied: py4j==0.10.9.7 in /usr/local/lib/python3.10/dist-packages (from pyspark) (0.10.9.7)\n",
            "Building wheels for collected packages: pyspark\n",
            "  Building wheel for pyspark (setup.py) ... \u001b[?25l\u001b[?25hdone\n",
            "  Created wheel for pyspark: filename=pyspark-3.5.2-py2.py3-none-any.whl size=317812365 sha256=243791bc4666f6427eb6b8b26e9003f8636f1775f199c701fb30b0b01bfec082\n",
            "  Stored in directory: /root/.cache/pip/wheels/34/34/bd/03944534c44b677cd5859f248090daa9fb27b3c8f8e5f49574\n",
            "Successfully built pyspark\n",
            "Installing collected packages: pyspark\n",
            "Successfully installed pyspark-3.5.2\n"
          ]
        }
      ],
      "source": [
        "!pip install pyspark"
      ]
    },
    {
      "cell_type": "code",
      "execution_count": null,
      "metadata": {
        "id": "qQO7InYSiA_K"
      },
      "outputs": [],
      "source": [
        "  # Pyspark Core Libraries\n",
        "from pyspark import SparkContext, SparkConf\n",
        "# Pyspark SQL Libraries\n",
        "from pyspark.sql import SQLContext, SparkSession\n",
        "import pyspark.sql.functions as F\n",
        "from pyspark.sql import Row\n",
        "from pyspark.sql.functions import isnan, when, count, col, udf, lower, regexp_replace, rand, round, lit, concat\n",
        "# Pyspark MLlib - Feature Engineering\n",
        "from pyspark.ml.feature import RegexTokenizer, StopWordsRemover, StringIndexer, HashingTF, IDF, Word2Vec\n",
        "# Pyspark SQL Types\n",
        "from pyspark.sql.types import IntegerType, StringType\n",
        "# Pyspark MLlib - Model Building\n",
        "from pyspark.ml import Pipeline\n",
        "# Pyspark MLlib - Classifiers\n",
        "from pyspark.ml.classification import LogisticRegression, RandomForestClassifier, NaiveBayes, DecisionTreeClassifier, GBTClassifier, LinearSVC\n",
        "# Pyspark MLlib - Evaluation Metrics\n",
        "from pyspark.ml.evaluation import BinaryClassificationEvaluator, MulticlassClassificationEvaluator\n",
        "# Pyspark MLLib - Metrics\n",
        "from pyspark.mllib.evaluation import MulticlassMetrics, BinaryClassificationMetrics\n",
        "# Visualizations\n",
        "import matplotlib.pyplot as plt\n",
        "import numpy as np\n",
        "import string\n",
        "# Pyspark MLlib - Custom Transformers\n",
        "from pyspark.ml import Transformer\n",
        "# Pyspark MLlib - Parameters for Transformers\n",
        "from pyspark.ml.param.shared import HasInputCol, HasOutputCol, Param\n",
        "# Pyspark MLlib - Utility Functions\n",
        "from pyspark.ml.util import DefaultParamsReadable, DefaultParamsWritable"
      ]
    },
    {
      "cell_type": "code",
      "execution_count": null,
      "metadata": {
        "colab": {
          "base_uri": "https://localhost:8080/"
        },
        "id": "fPpIe2WgiDOE",
        "outputId": "db506f1d-cba3-46d8-cd77-8cd35568be35"
      },
      "outputs": [
        {
          "name": "stderr",
          "output_type": "stream",
          "text": [
            "/usr/local/lib/python3.10/dist-packages/pyspark/sql/context.py:113: FutureWarning: Deprecated in 3.0.0. Use SparkSession.builder.getOrCreate() instead.\n",
            "  warnings.warn(\n"
          ]
        }
      ],
      "source": [
        "#create a SparkConf with the following attributes:\n",
        "#setAppName: Set application name\n",
        "#setMaster: Set master URL to connect to\n",
        "#spark driver memory is a flag that controls the amount of memory to allocate for a driver, which is 1GB by default. It is\n",
        "#set to 15g to accomadate the text processing and training of models\n",
        "conf = SparkConf().setAppName('Fake_news_detection').setMaster('local[4]').set('spark.driver.memory', '15g')\n",
        "\n",
        "#create an entry point using SparkConf: conf\n",
        "sc = SparkContext(conf=conf)\n",
        "#SQLcontext is created using sc for realational functionality\n",
        "sql_context = SQLContext(sc)"
      ]
    },
    {
      "cell_type": "markdown",
      "metadata": {
        "id": "TnWJyhRMuxPY"
      },
      "source": [
        "### Data Preprocessing"
      ]
    },
    {
      "cell_type": "code",
      "execution_count": null,
      "metadata": {
        "id": "1Gjn7Ddyi7Sa"
      },
      "outputs": [],
      "source": [
        "#read the real news data\n",
        "data = sql_context.read.csv('/content/drive/MyDrive/alb-fake-news-corpus.csv', header = True, inferSchema = True)\n"
      ]
    },
    {
      "cell_type": "code",
      "execution_count": null,
      "metadata": {
        "colab": {
          "base_uri": "https://localhost:8080/"
        },
        "id": "SVMZr-e7IJez",
        "outputId": "771c7945-e1eb-4550-d661-a2df4dc3eec6"
      },
      "outputs": [
        {
          "data": {
            "text/plain": [
              "3994"
            ]
          },
          "execution_count": 7,
          "metadata": {},
          "output_type": "execute_result"
        }
      ],
      "source": [
        "#Check the length of dataframe\n",
        "data.count()"
      ]
    },
    {
      "cell_type": "code",
      "execution_count": null,
      "metadata": {
        "colab": {
          "base_uri": "https://localhost:8080/"
        },
        "id": "AcasRKNX_b5-",
        "outputId": "5e78e6fb-4feb-4a03-b56e-f4ff0645f0ca"
      },
      "outputs": [
        {
          "data": {
            "text/plain": [
              "DataFrame[title: string, content: string, publication_datetime: string, facebook_url: string, web_page_url: string, number_of_tokens: string, number_of_words_without_punctuation: string, number_of_words_in_upper_case: string, average_word_length: string, number_of_characters: string, number_of_letters_in_upper_case: string, number_of_verbs: string, number_of_subjuntive: string, number_of_imperative_verbs: string, number_of_nouns: string, number_of_adjectives: string, number_of_adverbs: string, number_of_pronouns: string, number_of_modal_verbs: string, fake_news: string]"
            ]
          },
          "execution_count": 8,
          "metadata": {},
          "output_type": "execute_result"
        }
      ],
      "source": [
        "#Drop out duplicates\n",
        "data.dropDuplicates()"
      ]
    },
    {
      "cell_type": "code",
      "execution_count": null,
      "metadata": {
        "colab": {
          "base_uri": "https://localhost:8080/"
        },
        "id": "Q_B3UBuP_hEw",
        "outputId": "dd5288f0-a66a-4d9b-84cb-9dac1fbebd7c"
      },
      "outputs": [
        {
          "data": {
            "text/plain": [
              "3994"
            ]
          },
          "execution_count": 9,
          "metadata": {},
          "output_type": "execute_result"
        }
      ],
      "source": [
        "#Check the length of dataframe to check if there were duplicates after deleting them\n",
        "data.count()"
      ]
    },
    {
      "cell_type": "code",
      "execution_count": null,
      "metadata": {
        "colab": {
          "base_uri": "https://localhost:8080/"
        },
        "id": "a_n-qy8bW-lL",
        "outputId": "49c24cae-374a-4433-8c83-0aa43ccb3118"
      },
      "outputs": [
        {
          "name": "stdout",
          "output_type": "stream",
          "text": [
            "+--------------------+--------------------+--------------------+--------------------+--------------------+----------------+-----------------------------------+-----------------------------+-------------------+--------------------+-------------------------------+---------------+--------------------+--------------------------+---------------+--------------------+-----------------+------------------+---------------------+---------+\n",
            "|               title|             content|publication_datetime|        facebook_url|        web_page_url|number_of_tokens|number_of_words_without_punctuation|number_of_words_in_upper_case|average_word_length|number_of_characters|number_of_letters_in_upper_case|number_of_verbs|number_of_subjuntive|number_of_imperative_verbs|number_of_nouns|number_of_adjectives|number_of_adverbs|number_of_pronouns|number_of_modal_verbs|fake_news|\n",
            "+--------------------+--------------------+--------------------+--------------------+--------------------+----------------+-----------------------------------+-----------------------------+-------------------+--------------------+-------------------------------+---------------+--------------------+--------------------------+---------------+--------------------+-----------------+------------------+---------------------+---------+\n",
            "|Studimi gjerman: ...|Një nga pesë paci...|2020/07/29, 23:12:48|https://m.faceboo...|http://www.botaso...|             303|                                270|                           23|                5.2|                1878|                             42|             46|                   0|                         1|             35|                  21|               11|                 0|                    0|    False|\n",
            "|Labinot Tahiri: G...|Zojë Haxhiaj nga ...|2020/07/29, 21:36:47|https://m.faceboo...|http://www.botaso...|             383|                                344|                           31|               4.58|                2135|                             47|             52|                   0|                         0|             44|                  13|               17|                 0|                    0|    False|\n",
            "|Parashikon Albule...|Ish-ministrja e D...|2020/07/29, 00:16:23|https://m.faceboo...|http://www.botaso...|             253|                                228|                           23|               4.85|                1480|                             31|             44|                   0|                         0|             30|                   7|                8|                 0|                    2|    False|\n",
            "|Covid-19 rriti la...|Që nga 13 marsi k...|2020/07/25, 17:46:34|https://m.faceboo...|https://kallxo.co...|             598|                                544|                           62|               5.48|                3877|                            159|             84|                   0|                         0|            106|                  19|                8|                 0|                    1|    False|\n",
            "|Kryeministri Hoti...|Presidenti i Koso...|2020/07/25, 17:37:10|https://m.faceboo...|https://kallxo.co...|             144|                                130|                           14|               5.58|                 947|                             21|             11|                   0|                         0|             26|                   6|                4|                 0|                    0|    False|\n",
            "|Hoti: Do t’i dyfi...|Kryeministri i Ko...|2020/07/25, 17:14:22|https://m.faceboo...|https://kallxo.co...|             655|                                579|                           81|               5.27|                4105|                            143|             96|                   0|                         0|             95|                  23|               14|                 0|                    4|    False|\n",
            "|Prokuroria: I dys...|I dyshuari për vr...|2020/07/25, 16:48:06|https://m.faceboo...|https://kallxo.co...|             291|                                246|                           37|               5.09|                1771|                             52|             34|                   0|                         0|             42|                  17|                9|                 0|                    0|    False|\n",
            "|Prokuroria: I dys...|I dyshuari për vr...|2020/07/25, 15:55:39|https://m.faceboo...|https://kallxo.co...|             291|                                246|                           37|               5.09|                1771|                             52|             34|                   0|                         0|             42|                  17|                9|                 0|                    0|    False|\n",
            "|Alarmante - Rreth...|Numri i rasteve a...|2020/07/25, 15:26:52|https://m.faceboo...|https://kallxo.co...|             249|                                210|                           39|               4.98|                1487|                             68|             22|                   0|                         0|             49|                  14|                5|                 0|                    0|    False|\n",
            "|Numri i të infekt...|Komuna e Prishtin...|2020/07/25, 15:19:16|https://m.faceboo...|https://kallxo.co...|             224|                                188|                           33|               5.02|                1347|                             57|             20|                   0|                         0|             47|                   9|                4|                 0|                    0|    False|\n",
            "|5 persona me COVI...|5 persona kanë vd...|2020/07/25, 15:12:43|https://m.faceboo...|https://kallxo.co...|              74|                                 66|                            3|               4.96|                 440|                             15|              7|                   0|                         0|             12|                   3|                3|                 0|                    0|    False|\n",
            "|Jeta virtuale e f...|Bukurie Zejnullah...|2020/07/25, 15:02:32|https://m.faceboo...|https://kallxo.co...|            1817|                               1645|                           70|               5.23|               11321|                            258|            301|                   0|                         1|            206|                  78|               31|                 0|                    5|    False|\n",
            "|Prizren, aksident...|Një aksident traf...|2020/07/25, 15:01:54|https://m.faceboo...|https://kallxo.co...|              92|                                 83|                            8|               5.27|                 576|                             12|             12|                   0|                         1|             12|                   2|                1|                 0|                    0|    False|\n",
            "|Gjurmimi i COVID-...|Frika se mund të ...|2020/07/29, 00:12:14|https://m.faceboo...|http://www.botaso...|             584|                                538|                           33|               4.73|                3343|                             75|             78|                   0|                         0|             79|                  37|               23|                 0|                    4|    False|\n",
            "|Tentojnë kontraba...|Në pikën kufitare...|2020/07/25, 14:52:12|https://m.faceboo...|https://kallxo.co...|              62|                                 55|                            7|               5.35|                 393|                             12|              9|                   0|                         0|             12|                   1|                2|                 0|                    0|    False|\n",
            "|KSHZ certifikon r...|Komisioni shtetër...|2020/07/25, 14:50:09|https://m.faceboo...|https://kallxo.co...|             287|                                255|                           43|               5.29|                1803|                             90|             33|                   0|                         0|             50|                  18|                5|                 0|                    0|    False|\n",
            "|Kapixhikët e Priz...|Kush e di – e di ...|2020/07/25, 13:50:56|https://m.faceboo...|https://kallxo.co...|             829|                                724|                           65|                5.2|                5141|                            237|            125|                   0|                         0|             78|                  31|               30|                 0|                    6|    False|\n",
            "|Hoti: Sektori pri...|Kryeministri i Re...|2020/07/25, 13:35:02|https://m.faceboo...|https://kallxo.co...|             231|                                201|                           28|               5.29|                1452|                             33|             33|                   0|                         1|             32|                  11|                8|                 0|                    0|    False|\n",
            "|Drenas, dy person...|Dy persona nga fs...|2020/07/25, 12:56:04|https://m.faceboo...|https://kallxo.co...|              63|                                 56|                            9|               5.57|                 413|                             23|              4|                   0|                         0|              9|                   2|                2|                 0|                    0|    False|\n",
            "|Kina mbyll konsul...|Konsullata e Kinë...|2020/07/25, 12:43:35|https://m.faceboo...|https://kallxo.co...|             149|                                137|                           26|               5.43|                 957|                             39|              9|                   0|                         0|             26|                  10|                2|                 0|                    0|    False|\n",
            "+--------------------+--------------------+--------------------+--------------------+--------------------+----------------+-----------------------------------+-----------------------------+-------------------+--------------------+-------------------------------+---------------+--------------------+--------------------------+---------------+--------------------+-----------------+------------------+---------------------+---------+\n",
            "only showing top 20 rows\n",
            "\n"
          ]
        }
      ],
      "source": [
        "data.show()"
      ]
    },
    {
      "cell_type": "code",
      "execution_count": null,
      "metadata": {
        "colab": {
          "base_uri": "https://localhost:8080/"
        },
        "id": "-TH1m0nchE2E",
        "outputId": "513aa223-383d-4583-bb48-253e3b94598b"
      },
      "outputs": [
        {
          "name": "stdout",
          "output_type": "stream",
          "text": [
            "[0, 0, 0, 0, 0, 0, 0, 0, 0, 0, 0, 0, 0, 0, 0, 0, 0, 0, 0, 0]\n"
          ]
        }
      ],
      "source": [
        "# Collect the count of missing values in each column\n",
        "missing_counts = [data.where(col(column).isNull()).count() for column in data.columns]\n",
        "print(missing_counts)"
      ]
    },
    {
      "cell_type": "code",
      "execution_count": null,
      "metadata": {
        "colab": {
          "base_uri": "https://localhost:8080/"
        },
        "id": "UUobEaBGfbeR",
        "outputId": "64bf087a-a20b-4802-e83d-96b62fdcad42"
      },
      "outputs": [
        {
          "name": "stdout",
          "output_type": "stream",
          "text": [
            "root\n",
            " |-- title: string (nullable = true)\n",
            " |-- content: string (nullable = true)\n",
            " |-- publication_datetime: string (nullable = true)\n",
            " |-- facebook_url: string (nullable = true)\n",
            " |-- web_page_url: string (nullable = true)\n",
            " |-- number_of_tokens: string (nullable = true)\n",
            " |-- number_of_words_without_punctuation: string (nullable = true)\n",
            " |-- number_of_words_in_upper_case: string (nullable = true)\n",
            " |-- average_word_length: string (nullable = true)\n",
            " |-- number_of_characters: string (nullable = true)\n",
            " |-- number_of_letters_in_upper_case: string (nullable = true)\n",
            " |-- number_of_verbs: string (nullable = true)\n",
            " |-- number_of_subjuntive: string (nullable = true)\n",
            " |-- number_of_imperative_verbs: string (nullable = true)\n",
            " |-- number_of_nouns: string (nullable = true)\n",
            " |-- number_of_adjectives: string (nullable = true)\n",
            " |-- number_of_adverbs: string (nullable = true)\n",
            " |-- number_of_pronouns: string (nullable = true)\n",
            " |-- number_of_modal_verbs: string (nullable = true)\n",
            " |-- fake_news: string (nullable = true)\n",
            "\n"
          ]
        }
      ],
      "source": [
        "data.printSchema()"
      ]
    },
    {
      "cell_type": "markdown",
      "metadata": {
        "id": "dJD10gF7pc-Y"
      },
      "source": [
        "Show all the values in fake_news column, which will be used as target column"
      ]
    },
    {
      "cell_type": "code",
      "execution_count": null,
      "metadata": {
        "colab": {
          "base_uri": "https://localhost:8080/"
        },
        "collapsed": true,
        "id": "RG-QnEzItg8f",
        "outputId": "1f1bbf5a-e336-4850-a029-1d644614fff8"
      },
      "outputs": [
        {
          "name": "stdout",
          "output_type": "stream",
          "text": [
            "+--------------------+-----+\n",
            "|           fake_news|count|\n",
            "+--------------------+-----+\n",
            "|        pos federata|    1|\n",
            "|  Aragon dhe Navarra|    1|\n",
            "|         Arben Gashi|    2|\n",
            "|                 232|    1|\n",
            "| përkatësisht pol...|    1|\n",
            "|                   3|    2|\n",
            "|                  34|    1|\n",
            "|            kumbullë|    1|\n",
            "| Vjosa Osmanit dh...|    1|\n",
            "|                 670|    1|\n",
            "|                1143|    1|\n",
            "|                   0|   10|\n",
            "|               False| 1934|\n",
            "| bëhu i sinqertë ...|    1|\n",
            "|                  17|    1|\n",
            "| shkruante Macgre...|    1|\n",
            "| ne kemi punuar 1...|    1|\n",
            "| kanë pasur pakën...|    1|\n",
            "|                   6|    1|\n",
            "| gati dyfishë më ...|    1|\n",
            "| por kësaj here s...|    1|\n",
            "|https://www.botas...|    1|\n",
            "| për mbrojtjen e ...|    1|\n",
            "|                  40|    1|\n",
            "| anëtarja nga Par...|    3|\n",
            "|                  25|    1|\n",
            "|http://www.botaso...|    1|\n",
            "| vendi më i madh ...|    1|\n",
            "|                 612|    1|\n",
            "|                  58|    1|\n",
            "| ku pas dy shekuj...|    1|\n",
            "| si vlera të shenjta|    1|\n",
            "| ka shtuar Buxhov...|    1|\n",
            "|                   1|    1|\n",
            "|                  10|    1|\n",
            "|http://www.botaso...|    1|\n",
            "|                  37|    1|\n",
            "|                 275|    1|\n",
            "|                   4|    1|\n",
            "| ai lehtëson elim...|    1|\n",
            "| me mosvotimin e ...|    1|\n",
            "|                1525|    1|\n",
            "|                 602|    1|\n",
            "|                2517|    1|\n",
            "| shteti i Uashing...|    1|\n",
            "|                  21|    1|\n",
            "|   pa plan afatgjatë|    1|\n",
            "|                 324|    1|\n",
            "| dërmon e shkatër...|    1|\n",
            "|                  50|    1|\n",
            "|                1892|    1|\n",
            "|        Grant Shapps|    1|\n",
            "|                True| 1996|\n",
            "+--------------------+-----+\n",
            "\n"
          ]
        }
      ],
      "source": [
        "data.groupBy('fake_news').count().show(80)"
      ]
    },
    {
      "cell_type": "markdown",
      "metadata": {
        "id": "we_Oe3tpptJQ"
      },
      "source": [
        "Since we are focused in a two labeled classification, whether the article is true or false, we will replace any other values than True to False"
      ]
    },
    {
      "cell_type": "code",
      "execution_count": null,
      "metadata": {
        "id": "Ob0NC6T6wHUl"
      },
      "outputs": [],
      "source": [
        "# Replace values other than \"False\" and \"True\" with \"False\"\n",
        "df_new = data.withColumn(\"fake_news\", when((col(\"fake_news\") == \"True\") | (col(\"fake_news\") == \"False\"), col(\"fake_news\")).otherwise(\"False\"))"
      ]
    },
    {
      "cell_type": "code",
      "execution_count": null,
      "metadata": {
        "colab": {
          "base_uri": "https://localhost:8080/"
        },
        "id": "GjtW_ayDwcos",
        "outputId": "857a6f05-c30b-494f-ef64-408abc4e04db"
      },
      "outputs": [
        {
          "name": "stdout",
          "output_type": "stream",
          "text": [
            "+--------------------+--------------------+--------------------+--------------------+--------------------+----------------+-----------------------------------+-----------------------------+-------------------+--------------------+-------------------------------+---------------+--------------------+--------------------------+---------------+--------------------+-----------------+------------------+---------------------+---------+\n",
            "|               title|             content|publication_datetime|        facebook_url|        web_page_url|number_of_tokens|number_of_words_without_punctuation|number_of_words_in_upper_case|average_word_length|number_of_characters|number_of_letters_in_upper_case|number_of_verbs|number_of_subjuntive|number_of_imperative_verbs|number_of_nouns|number_of_adjectives|number_of_adverbs|number_of_pronouns|number_of_modal_verbs|fake_news|\n",
            "+--------------------+--------------------+--------------------+--------------------+--------------------+----------------+-----------------------------------+-----------------------------+-------------------+--------------------+-------------------------------+---------------+--------------------+--------------------------+---------------+--------------------+-----------------+------------------+---------------------+---------+\n",
            "|Studimi gjerman: ...|Një nga pesë paci...|2020/07/29, 23:12:48|https://m.faceboo...|http://www.botaso...|             303|                                270|                           23|                5.2|                1878|                             42|             46|                   0|                         1|             35|                  21|               11|                 0|                    0|    False|\n",
            "|Labinot Tahiri: G...|Zojë Haxhiaj nga ...|2020/07/29, 21:36:47|https://m.faceboo...|http://www.botaso...|             383|                                344|                           31|               4.58|                2135|                             47|             52|                   0|                         0|             44|                  13|               17|                 0|                    0|    False|\n",
            "|Parashikon Albule...|Ish-ministrja e D...|2020/07/29, 00:16:23|https://m.faceboo...|http://www.botaso...|             253|                                228|                           23|               4.85|                1480|                             31|             44|                   0|                         0|             30|                   7|                8|                 0|                    2|    False|\n",
            "|Covid-19 rriti la...|Që nga 13 marsi k...|2020/07/25, 17:46:34|https://m.faceboo...|https://kallxo.co...|             598|                                544|                           62|               5.48|                3877|                            159|             84|                   0|                         0|            106|                  19|                8|                 0|                    1|    False|\n",
            "|Kryeministri Hoti...|Presidenti i Koso...|2020/07/25, 17:37:10|https://m.faceboo...|https://kallxo.co...|             144|                                130|                           14|               5.58|                 947|                             21|             11|                   0|                         0|             26|                   6|                4|                 0|                    0|    False|\n",
            "|Hoti: Do t’i dyfi...|Kryeministri i Ko...|2020/07/25, 17:14:22|https://m.faceboo...|https://kallxo.co...|             655|                                579|                           81|               5.27|                4105|                            143|             96|                   0|                         0|             95|                  23|               14|                 0|                    4|    False|\n",
            "|Prokuroria: I dys...|I dyshuari për vr...|2020/07/25, 16:48:06|https://m.faceboo...|https://kallxo.co...|             291|                                246|                           37|               5.09|                1771|                             52|             34|                   0|                         0|             42|                  17|                9|                 0|                    0|    False|\n",
            "|Prokuroria: I dys...|I dyshuari për vr...|2020/07/25, 15:55:39|https://m.faceboo...|https://kallxo.co...|             291|                                246|                           37|               5.09|                1771|                             52|             34|                   0|                         0|             42|                  17|                9|                 0|                    0|    False|\n",
            "|Alarmante - Rreth...|Numri i rasteve a...|2020/07/25, 15:26:52|https://m.faceboo...|https://kallxo.co...|             249|                                210|                           39|               4.98|                1487|                             68|             22|                   0|                         0|             49|                  14|                5|                 0|                    0|    False|\n",
            "|Numri i të infekt...|Komuna e Prishtin...|2020/07/25, 15:19:16|https://m.faceboo...|https://kallxo.co...|             224|                                188|                           33|               5.02|                1347|                             57|             20|                   0|                         0|             47|                   9|                4|                 0|                    0|    False|\n",
            "|5 persona me COVI...|5 persona kanë vd...|2020/07/25, 15:12:43|https://m.faceboo...|https://kallxo.co...|              74|                                 66|                            3|               4.96|                 440|                             15|              7|                   0|                         0|             12|                   3|                3|                 0|                    0|    False|\n",
            "|Jeta virtuale e f...|Bukurie Zejnullah...|2020/07/25, 15:02:32|https://m.faceboo...|https://kallxo.co...|            1817|                               1645|                           70|               5.23|               11321|                            258|            301|                   0|                         1|            206|                  78|               31|                 0|                    5|    False|\n",
            "|Prizren, aksident...|Një aksident traf...|2020/07/25, 15:01:54|https://m.faceboo...|https://kallxo.co...|              92|                                 83|                            8|               5.27|                 576|                             12|             12|                   0|                         1|             12|                   2|                1|                 0|                    0|    False|\n",
            "|Gjurmimi i COVID-...|Frika se mund të ...|2020/07/29, 00:12:14|https://m.faceboo...|http://www.botaso...|             584|                                538|                           33|               4.73|                3343|                             75|             78|                   0|                         0|             79|                  37|               23|                 0|                    4|    False|\n",
            "|Tentojnë kontraba...|Në pikën kufitare...|2020/07/25, 14:52:12|https://m.faceboo...|https://kallxo.co...|              62|                                 55|                            7|               5.35|                 393|                             12|              9|                   0|                         0|             12|                   1|                2|                 0|                    0|    False|\n",
            "|KSHZ certifikon r...|Komisioni shtetër...|2020/07/25, 14:50:09|https://m.faceboo...|https://kallxo.co...|             287|                                255|                           43|               5.29|                1803|                             90|             33|                   0|                         0|             50|                  18|                5|                 0|                    0|    False|\n",
            "|Kapixhikët e Priz...|Kush e di – e di ...|2020/07/25, 13:50:56|https://m.faceboo...|https://kallxo.co...|             829|                                724|                           65|                5.2|                5141|                            237|            125|                   0|                         0|             78|                  31|               30|                 0|                    6|    False|\n",
            "|Hoti: Sektori pri...|Kryeministri i Re...|2020/07/25, 13:35:02|https://m.faceboo...|https://kallxo.co...|             231|                                201|                           28|               5.29|                1452|                             33|             33|                   0|                         1|             32|                  11|                8|                 0|                    0|    False|\n",
            "|Drenas, dy person...|Dy persona nga fs...|2020/07/25, 12:56:04|https://m.faceboo...|https://kallxo.co...|              63|                                 56|                            9|               5.57|                 413|                             23|              4|                   0|                         0|              9|                   2|                2|                 0|                    0|    False|\n",
            "|Kina mbyll konsul...|Konsullata e Kinë...|2020/07/25, 12:43:35|https://m.faceboo...|https://kallxo.co...|             149|                                137|                           26|               5.43|                 957|                             39|              9|                   0|                         0|             26|                  10|                2|                 0|                    0|    False|\n",
            "+--------------------+--------------------+--------------------+--------------------+--------------------+----------------+-----------------------------------+-----------------------------+-------------------+--------------------+-------------------------------+---------------+--------------------+--------------------------+---------------+--------------------+-----------------+------------------+---------------------+---------+\n",
            "only showing top 20 rows\n",
            "\n"
          ]
        }
      ],
      "source": [
        "#drop rows where fake_news is different from True or False\n",
        "#df_new = data.filter((F.col('fake_news') == 'True') | (F.col('fake_news') == 'False'))\n",
        "\n",
        "#view new DataFrame\n",
        "df_new.show()"
      ]
    },
    {
      "cell_type": "code",
      "execution_count": null,
      "metadata": {
        "colab": {
          "base_uri": "https://localhost:8080/"
        },
        "id": "DhkIe3q9x1Cr",
        "outputId": "156b0697-3d5f-43f3-e867-7af8f2b161b6"
      },
      "outputs": [
        {
          "data": {
            "text/plain": [
              "3994"
            ]
          },
          "execution_count": 18,
          "metadata": {},
          "output_type": "execute_result"
        }
      ],
      "source": [
        "df_new.count()"
      ]
    },
    {
      "cell_type": "code",
      "execution_count": null,
      "metadata": {
        "colab": {
          "base_uri": "https://localhost:8080/"
        },
        "id": "qAsax2r4yeOj",
        "outputId": "aca34115-267d-4614-8360-156168059549"
      },
      "outputs": [
        {
          "name": "stdout",
          "output_type": "stream",
          "text": [
            "+---------+-----+\n",
            "|fake_news|count|\n",
            "+---------+-----+\n",
            "|    False| 1998|\n",
            "|     True| 1996|\n",
            "+---------+-----+\n",
            "\n"
          ]
        }
      ],
      "source": [
        "df_new.groupBy('fake_news').count().show()"
      ]
    },
    {
      "cell_type": "code",
      "execution_count": null,
      "metadata": {
        "colab": {
          "base_uri": "https://localhost:8080/",
          "height": 487
        },
        "collapsed": true,
        "id": "BtHhh6CQzFyv",
        "outputId": "a5b9b803-8d75-4bd6-9fb3-920027c56fdd"
      },
      "outputs": [
        {
          "data": {
            "image/png": "[encoded data removed]",
            "text/plain": [
              "<Figure size 800x500 with 1 Axes>"
            ]
          },
          "metadata": {},
          "output_type": "display_data"
        }
      ],
      "source": [
        "# Count the number of occurrences for each unique value in the 'fake_news' column\n",
        "class_counts = df_new.groupBy('fake_news').count().collect()\n",
        "\n",
        "# Extract class labels and counts for plotting\n",
        "labels = [str(row['fake_news']) for row in class_counts]\n",
        "counts = [row['count'] for row in class_counts]\n",
        "\n",
        "# Plotting\n",
        "plt.figure(figsize=(8, 5))\n",
        "plt.bar(labels, counts, color='blue')\n",
        "plt.title('Class Distribution')\n",
        "plt.xlabel('Class')\n",
        "plt.ylabel('Count')\n",
        "plt.show()"
      ]
    },
    {
      "cell_type": "markdown",
      "metadata": {
        "id": "YOJcg9tKqHRB"
      },
      "source": [
        "## **Feature Engineering**"
      ]
    },
    {
      "cell_type": "code",
      "execution_count": null,
      "metadata": {
        "id": "EGQsXwppNUyl"
      },
      "outputs": [],
      "source": [
        "# Concatenate 'title' and 'content' columns into a new column 'news_article'\n",
        "df_new = df_new.withColumn('news_article', concat(col('title'), lit(' '), col('content')))\n",
        "\n"
      ]
    },
    {
      "cell_type": "code",
      "execution_count": null,
      "metadata": {
        "colab": {
          "base_uri": "https://localhost:8080/"
        },
        "collapsed": true,
        "id": "Vm1-SW0TTsgr",
        "outputId": "9ef2fefb-4905-48da-9f09-ad00555eec46"
      },
      "outputs": [
        {
          "name": "stdout",
          "output_type": "stream",
          "text": [
            "+--------------------+--------------------+--------------------+--------------------+--------------------+----------------+-----------------------------------+-----------------------------+-------------------+--------------------+-------------------------------+---------------+--------------------+--------------------------+---------------+--------------------+-----------------+------------------+---------------------+---------+--------------------+\n",
            "|               title|             content|publication_datetime|        facebook_url|        web_page_url|number_of_tokens|number_of_words_without_punctuation|number_of_words_in_upper_case|average_word_length|number_of_characters|number_of_letters_in_upper_case|number_of_verbs|number_of_subjuntive|number_of_imperative_verbs|number_of_nouns|number_of_adjectives|number_of_adverbs|number_of_pronouns|number_of_modal_verbs|fake_news|        news_article|\n",
            "+--------------------+--------------------+--------------------+--------------------+--------------------+----------------+-----------------------------------+-----------------------------+-------------------+--------------------+-------------------------------+---------------+--------------------+--------------------------+---------------+--------------------+-----------------+------------------+---------------------+---------+--------------------+\n",
            "|Studimi gjerman: ...|Një nga pesë paci...|2020/07/29, 23:12:48|https://m.faceboo...|http://www.botaso...|             303|                                270|                           23|                5.2|                1878|                             42|             46|                   0|                         1|             35|                  21|               11|                 0|                    0|    False|Studimi gjerman: ...|\n",
            "|Labinot Tahiri: G...|Zojë Haxhiaj nga ...|2020/07/29, 21:36:47|https://m.faceboo...|http://www.botaso...|             383|                                344|                           31|               4.58|                2135|                             47|             52|                   0|                         0|             44|                  13|               17|                 0|                    0|    False|Labinot Tahiri: G...|\n",
            "|Parashikon Albule...|Ish-ministrja e D...|2020/07/29, 00:16:23|https://m.faceboo...|http://www.botaso...|             253|                                228|                           23|               4.85|                1480|                             31|             44|                   0|                         0|             30|                   7|                8|                 0|                    2|    False|Parashikon Albule...|\n",
            "|Covid-19 rriti la...|Që nga 13 marsi k...|2020/07/25, 17:46:34|https://m.faceboo...|https://kallxo.co...|             598|                                544|                           62|               5.48|                3877|                            159|             84|                   0|                         0|            106|                  19|                8|                 0|                    1|    False|Covid-19 rriti la...|\n",
            "|Kryeministri Hoti...|Presidenti i Koso...|2020/07/25, 17:37:10|https://m.faceboo...|https://kallxo.co...|             144|                                130|                           14|               5.58|                 947|                             21|             11|                   0|                         0|             26|                   6|                4|                 0|                    0|    False|Kryeministri Hoti...|\n",
            "|Hoti: Do t’i dyfi...|Kryeministri i Ko...|2020/07/25, 17:14:22|https://m.faceboo...|https://kallxo.co...|             655|                                579|                           81|               5.27|                4105|                            143|             96|                   0|                         0|             95|                  23|               14|                 0|                    4|    False|Hoti: Do t’i dyfi...|\n",
            "|Prokuroria: I dys...|I dyshuari për vr...|2020/07/25, 16:48:06|https://m.faceboo...|https://kallxo.co...|             291|                                246|                           37|               5.09|                1771|                             52|             34|                   0|                         0|             42|                  17|                9|                 0|                    0|    False|Prokuroria: I dys...|\n",
            "|Prokuroria: I dys...|I dyshuari për vr...|2020/07/25, 15:55:39|https://m.faceboo...|https://kallxo.co...|             291|                                246|                           37|               5.09|                1771|                             52|             34|                   0|                         0|             42|                  17|                9|                 0|                    0|    False|Prokuroria: I dys...|\n",
            "|Alarmante - Rreth...|Numri i rasteve a...|2020/07/25, 15:26:52|https://m.faceboo...|https://kallxo.co...|             249|                                210|                           39|               4.98|                1487|                             68|             22|                   0|                         0|             49|                  14|                5|                 0|                    0|    False|Alarmante - Rreth...|\n",
            "|Numri i të infekt...|Komuna e Prishtin...|2020/07/25, 15:19:16|https://m.faceboo...|https://kallxo.co...|             224|                                188|                           33|               5.02|                1347|                             57|             20|                   0|                         0|             47|                   9|                4|                 0|                    0|    False|Numri i të infekt...|\n",
            "|5 persona me COVI...|5 persona kanë vd...|2020/07/25, 15:12:43|https://m.faceboo...|https://kallxo.co...|              74|                                 66|                            3|               4.96|                 440|                             15|              7|                   0|                         0|             12|                   3|                3|                 0|                    0|    False|5 persona me COVI...|\n",
            "|Jeta virtuale e f...|Bukurie Zejnullah...|2020/07/25, 15:02:32|https://m.faceboo...|https://kallxo.co...|            1817|                               1645|                           70|               5.23|               11321|                            258|            301|                   0|                         1|            206|                  78|               31|                 0|                    5|    False|Jeta virtuale e f...|\n",
            "|Prizren, aksident...|Një aksident traf...|2020/07/25, 15:01:54|https://m.faceboo...|https://kallxo.co...|              92|                                 83|                            8|               5.27|                 576|                             12|             12|                   0|                         1|             12|                   2|                1|                 0|                    0|    False|Prizren, aksident...|\n",
            "|Gjurmimi i COVID-...|Frika se mund të ...|2020/07/29, 00:12:14|https://m.faceboo...|http://www.botaso...|             584|                                538|                           33|               4.73|                3343|                             75|             78|                   0|                         0|             79|                  37|               23|                 0|                    4|    False|Gjurmimi i COVID-...|\n",
            "|Tentojnë kontraba...|Në pikën kufitare...|2020/07/25, 14:52:12|https://m.faceboo...|https://kallxo.co...|              62|                                 55|                            7|               5.35|                 393|                             12|              9|                   0|                         0|             12|                   1|                2|                 0|                    0|    False|Tentojnë kontraba...|\n",
            "|KSHZ certifikon r...|Komisioni shtetër...|2020/07/25, 14:50:09|https://m.faceboo...|https://kallxo.co...|             287|                                255|                           43|               5.29|                1803|                             90|             33|                   0|                         0|             50|                  18|                5|                 0|                    0|    False|KSHZ certifikon r...|\n",
            "|Kapixhikët e Priz...|Kush e di – e di ...|2020/07/25, 13:50:56|https://m.faceboo...|https://kallxo.co...|             829|                                724|                           65|                5.2|                5141|                            237|            125|                   0|                         0|             78|                  31|               30|                 0|                    6|    False|Kapixhikët e Priz...|\n",
            "|Hoti: Sektori pri...|Kryeministri i Re...|2020/07/25, 13:35:02|https://m.faceboo...|https://kallxo.co...|             231|                                201|                           28|               5.29|                1452|                             33|             33|                   0|                         1|             32|                  11|                8|                 0|                    0|    False|Hoti: Sektori pri...|\n",
            "|Drenas, dy person...|Dy persona nga fs...|2020/07/25, 12:56:04|https://m.faceboo...|https://kallxo.co...|              63|                                 56|                            9|               5.57|                 413|                             23|              4|                   0|                         0|              9|                   2|                2|                 0|                    0|    False|Drenas, dy person...|\n",
            "|Kina mbyll konsul...|Konsullata e Kinë...|2020/07/25, 12:43:35|https://m.faceboo...|https://kallxo.co...|             149|                                137|                           26|               5.43|                 957|                             39|              9|                   0|                         0|             26|                  10|                2|                 0|                    0|    False|Kina mbyll konsul...|\n",
            "+--------------------+--------------------+--------------------+--------------------+--------------------+----------------+-----------------------------------+-----------------------------+-------------------+--------------------+-------------------------------+---------------+--------------------+--------------------------+---------------+--------------------+-----------------+------------------+---------------------+---------+--------------------+\n",
            "only showing top 20 rows\n",
            "\n"
          ]
        }
      ],
      "source": [
        "df_new.show()"
      ]
    },
    {
      "cell_type": "markdown",
      "metadata": {
        "id": "dT06SqA8imwS"
      },
      "source": [
        " ## **Data Cleaning**\n"
      ]
    },
    {
      "cell_type": "code",
      "execution_count": null,
      "metadata": {
        "id": "ab_SH65UY8Ad"
      },
      "outputs": [],
      "source": [
        "#remove all columns except fake_news and news_article\n",
        "columns = [\"title\",\"content\", \"publication_datetime\", \"facebook_url\",\"number_of_tokens\",\"number_of_words_without_punctuation\",\n",
        "           \"number_of_words_in_upper_case\",\"average_word_length\",\"number_of_characters\",\"number_of_letters_in_upper_case\",\n",
        "           \"number_of_verbs\",\"number_of_subjuntive\",\"number_of_imperative_verbs\",\"number_of_nouns\",\"number_of_adjectives\",\"number_of_modal_verbs\",\"number_of_adverbs\",\n",
        "           \"number_of_pronouns\",\"web_page_url\"]\n",
        "df_new = df_new.drop(*columns)"
      ]
    },
    {
      "cell_type": "code",
      "execution_count": null,
      "metadata": {
        "colab": {
          "base_uri": "https://localhost:8080/"
        },
        "collapsed": true,
        "id": "w_X4m4Rrj1PY",
        "outputId": "52536663-7b26-47ac-d555-355f64e10338"
      },
      "outputs": [
        {
          "name": "stdout",
          "output_type": "stream",
          "text": [
            "+---------+--------------------+\n",
            "|fake_news|        news_article|\n",
            "+---------+--------------------+\n",
            "|    False|Studimi gjerman: ...|\n",
            "|    False|Labinot Tahiri: G...|\n",
            "|    False|Parashikon Albule...|\n",
            "|    False|Covid-19 rriti la...|\n",
            "|    False|Kryeministri Hoti...|\n",
            "|    False|Hoti: Do t’i dyfi...|\n",
            "|    False|Prokuroria: I dys...|\n",
            "|    False|Prokuroria: I dys...|\n",
            "|    False|Alarmante - Rreth...|\n",
            "|    False|Numri i të infekt...|\n",
            "+---------+--------------------+\n",
            "only showing top 10 rows\n",
            "\n"
          ]
        }
      ],
      "source": [
        "df_new.show(10)"
      ]
    },
    {
      "cell_type": "code",
      "execution_count": null,
      "metadata": {
        "colab": {
          "base_uri": "https://localhost:8080/"
        },
        "id": "dSWKIOpHkMO4",
        "outputId": "a0edee51-5a7f-4473-901b-878abf41fd9b"
      },
      "outputs": [
        {
          "name": "stdout",
          "output_type": "stream",
          "text": [
            "root\n",
            " |-- fake_news: string (nullable = true)\n",
            " |-- news_article: string (nullable = true)\n",
            "\n"
          ]
        }
      ],
      "source": [
        "#print the schema of the data\n",
        "df_new.printSchema()"
      ]
    },
    {
      "cell_type": "markdown",
      "metadata": {
        "id": "oSfUW5DokVds"
      },
      "source": [
        " ,**Text Preprocessing using NLP**\n",
        "\n",
        "The text preprocessing involves the following steps:\n",
        "\n",
        "1. Tokenize the text into words using RegexTokenizer which is more advanced tokenization based on regular expression matching\n",
        "2. Removal of Stopwords using StopWordsRemover. Albanian stopwords are used to remove unwanted words from the data.\n",
        "3. Converting text to numerical. We moved out from Word2Vec to Hash TFIDF, because negative values created was not accepptable in our NAive Bayes Model.\n",
        "\n",
        "4. Convert target categorical values into intergers using StringIndexer.  StringIndexer encodes a string column of labels to a column of label indices.\n",
        "\n"
      ]
    },
    {
      "cell_type": "code",
      "execution_count": null,
      "metadata": {
        "id": "nIMGgPblzbeI"
      },
      "outputs": [],
      "source": [
        "# Albanian stop words list\n",
        "\n",
        "\"\"\" Resource of Albainan stop words https://betimdrenica.com/2012/05/21/albanian-stop-words.html\"\"\"\n",
        "\n",
        "add_stopwords = [\"a\",\"apo\",\"asnjë\",\"asnje\",\"ata\",\"ato\",\"ca\",\"deri\",\"dhe\",\"do\",\"e\",\"i\",\n",
        "\"jam\",\"janë\",\"jane\",\"jemi\",\"jeni\",\"ju\",\"juaj\",\"kam\",\"kaq\",\"ke\",\"kemi\",\"kete\",\"këtë\",\n",
        "\"më\" ,\"me\",\"mu\",\"në\" ,\"ne\",\"nëse\",\"nese\"\"një\",\"nje\",\"nuk\",\"pa\",\"pas\",\"pasi\",\"për\",\"per\",\n",
        "\"prej\",\"që\",\"qe\",\"sa\",\"së\",\"se\",\"seç\" ,\"sec\"\"si\",\"saj\",\"të\",\"te\",\"ti\",\"tek\",\"tij\",\"tonë\", \"tone\",\n",
        "\"tuaj\",\"ty\",\"tyre\",\"unë\" ,\"une\",\"veç\", \"vec\"]\n",
        "\n",
        "# Define a custom transformer for removing punctuation from a text column\n",
        "class PunctuationRemover(Transformer, HasInputCol, HasOutputCol, DefaultParamsReadable, DefaultParamsWritable):\n",
        "    \"\"\"\n",
        "    A PySpark transformer for removing punctuation from a text column.\n",
        "    \"\"\"\n",
        "\n",
        "    def __init__(self, inputCol=None, outputCol=None):\n",
        "        super(PunctuationRemover, self).__init__()\n",
        "        self._setDefault(inputCol=inputCol, outputCol=outputCol)\n",
        "\n",
        "    def _transform(self, df):\n",
        "        \"\"\"\n",
        "        Transforms the input DataFrame by removing punctuation from the specified text column.\n",
        "\n",
        "        Parameters:\n",
        "        - df: The input DataFrame.\n",
        "\n",
        "        Returns:\n",
        "        - Transformed DataFrame with punctuation removed.\n",
        "        \"\"\"\n",
        "        input_col = self.getInputCol()  # Get input column\n",
        "        output_col = self.getOutputCol()  # Get output column\n",
        "\n",
        "        # Create a User-Defined Function (UDF) to remove punctuation\n",
        "        remove_punct_udf = F.udf(lambda text: text.translate(str.maketrans('', '', string.punctuation)) if text else text, StringType())\n",
        "\n",
        "        # Apply the UDF and add a new column with the result\n",
        "        return df.withColumn(output_col, remove_punct_udf(F.col(input_col)))\n",
        "# Punctuation removal\n",
        "punct_remover = PunctuationRemover(inputCol=\"news_article\", outputCol=\"text_no_punct\")\n",
        "\n",
        "# Tokenization\n",
        "tokenizer = RegexTokenizer(inputCol=\"text_no_punct\", outputCol=\"words\", pattern=\"\\\\W\")\n",
        "\n",
        "# Stopwords removal\n",
        "remover = StopWordsRemover(inputCol=\"words\", outputCol=\"filtered\").setStopWords(add_stopwords)\n",
        "\n",
        "# TF-IDF (Term Frequency-Inverse Document Frequency)\n",
        "hashingTF = HashingTF(inputCol=\"filtered\", outputCol=\"rawFeatures\")\n",
        "idf = IDF(inputCol=\"rawFeatures\", outputCol=\"features\")\n",
        "\n",
        "# Label Indexer\n",
        "label_stringIdx = StringIndexer(inputCol=\"fake_news\", outputCol=\"label\")\n",
        "\n",
        "# Pipeline for text preprocessing\n",
        "pipeline = Pipeline(stages=[punct_remover, tokenizer, remover, hashingTF, idf, label_stringIdx])\n",
        "\n",
        "# Fit the pipeline on the dataset\n",
        "pipelineFit = pipeline.fit(df_new)\n",
        "dataset = pipelineFit.transform(df_new)\n",
        "\n"
      ]
    },
    {
      "cell_type": "code",
      "execution_count": null,
      "metadata": {
        "colab": {
          "base_uri": "https://localhost:8080/"
        },
        "id": "-0UCFGmHozzO",
        "outputId": "72da216f-3071-4700-f48f-1eb3a085cbde"
      },
      "outputs": [
        {
          "name": "stdout",
          "output_type": "stream",
          "text": [
            "+---------+--------------------+--------------------+--------------------+--------------------+--------------------+--------------------+-----+\n",
            "|fake_news|        news_article|       text_no_punct|               words|            filtered|         rawFeatures|            features|label|\n",
            "+---------+--------------------+--------------------+--------------------+--------------------+--------------------+--------------------+-----+\n",
            "|     True|Ndodhi më e keqja...|Ndodhi më e keqja...|[ndodhi, m, e, ke...|[ndodhi, m, keqja...|(262144,[4748,740...|(262144,[4748,740...|  1.0|\n",
            "|    False|​Kush hedh doreza...|​Kush hedh doreza...|[kush, hedh, dore...|[kush, hedh, dore...|(262144,[1303,591...|(262144,[1303,591...|  0.0|\n",
            "|    False|Haradinaj kundër ...|Haradinaj kundër ...|[haradinaj, kund,...|[haradinaj, kund,...|(262144,[278,4412...|(262144,[278,4412...|  0.0|\n",
            "|     True|Në momentin kur u...|Në momentin kur u...|[n, momentin, kur...|[n, momentin, kur...|(262144,[1303,376...|(262144,[1303,376...|  1.0|\n",
            "|    False|Aziz Makiqi: Disa...|Aziz Makiqi Disa ...|[aziz, makiqi, di...|[aziz, makiqi, di...|(262144,[1562,338...|(262144,[1562,338...|  0.0|\n",
            "|     True|E fejuara futi ke...|E fejuara futi ke...|[e, fejuara, futi...|[fejuara, futi, k...|(262144,[161,8182...|(262144,[161,8182...|  1.0|\n",
            "|     True|A ka ardhur koha,...|A ka ardhur koha ...|[a, ka, ardhur, k...|[ka, ardhur, koha...|(262144,[14851,27...|(262144,[14851,27...|  1.0|\n",
            "|     True|Mërgimtarët shqip...|Mërgimtarët shqip...|[m, rgimtar, t, s...|[m, rgimtar, t, s...|(262144,[11891,20...|(262144,[11891,20...|  1.0|\n",
            "|    False|Konjufca: Mustafa...|Konjufca Mustafa ...|[konjufca, mustaf...|[konjufca, mustaf...|(262144,[253,1303...|(262144,[253,1303...|  0.0|\n",
            "|    False|Prof. Hamdi Ramad...|Prof Hamdi Ramada...|[prof, hamdi, ram...|[prof, hamdi, ram...|(262144,[65,371,1...|(262144,[65,371,1...|  0.0|\n",
            "+---------+--------------------+--------------------+--------------------+--------------------+--------------------+--------------------+-----+\n",
            "only showing top 10 rows\n",
            "\n"
          ]
        }
      ],
      "source": [
        "# Show 10 random rows from the DataFrame\n",
        "dataset.orderBy(rand()).show(10)\n"
      ]
    },
    {
      "cell_type": "markdown",
      "metadata": {
        "id": "x5r9u6-vqSqw"
      },
      "source": [
        "The data is converted to numerical format and below shows the schema of the preprocessed data."
      ]
    },
    {
      "cell_type": "code",
      "execution_count": null,
      "metadata": {
        "colab": {
          "base_uri": "https://localhost:8080/"
        },
        "id": "pfmbSEBoqOWc",
        "outputId": "317669c9-5f8d-40e7-ae18-0d4adc87af4a"
      },
      "outputs": [
        {
          "name": "stdout",
          "output_type": "stream",
          "text": [
            "root\n",
            " |-- fake_news: string (nullable = true)\n",
            " |-- news_article: string (nullable = true)\n",
            " |-- text_no_punct: string (nullable = true)\n",
            " |-- words: array (nullable = true)\n",
            " |    |-- element: string (containsNull = true)\n",
            " |-- filtered: array (nullable = true)\n",
            " |    |-- element: string (containsNull = true)\n",
            " |-- rawFeatures: vector (nullable = true)\n",
            " |-- features: vector (nullable = true)\n",
            " |-- label: double (nullable = false)\n",
            "\n"
          ]
        }
      ],
      "source": [
        "#check the schema for preprocessed data\n",
        "dataset.printSchema()"
      ]
    },
    {
      "cell_type": "markdown",
      "metadata": {
        "id": "hPMkXtXAe-M_"
      },
      "source": [
        "**5. Function for Evaluation Metrics**\n",
        "\n",
        "This project is implmented using five machine learning algorithms. The performance of the models are evaluated confusion matrix, F1 score and Area under the curve. The model with less False positives and false negatives, high F1 score and AUC will be considered as a better model for fake news detection. Matplotlib and Numpy is used to plot the confusion matrix.\n"
      ]
    },
    {
      "cell_type": "code",
      "execution_count": null,
      "metadata": {
        "id": "TDFuVTYJxPHJ"
      },
      "outputs": [],
      "source": [
        "#function to calculate the evaluation metrics\n",
        "def evalualte_metrics(predictions):\n",
        "    '''Accuracy'''\n",
        "    #label = predictions.select(['prediction', 'label'])\n",
        "    evaluator = MulticlassClassificationEvaluator(labelCol = \"label\", predictionCol = \"prediction\", metricName = \"accuracy\")\n",
        "    accuracy = evaluator.evaluate(predictions)*100\n",
        "\n",
        "    #select prediction and label columns to calculate metric values\n",
        "    results = predictions.select(['prediction', 'label'])\n",
        "    #convert the results to rdd to get predictions and labels\n",
        "    predictionAndLabels = results.rdd\n",
        "    '''Area under the curve'''\n",
        "    binary_evaluator = BinaryClassificationMetrics(predictionAndLabels)\n",
        "    auc = binary_evaluator.areaUnderROC\n",
        "    '''Classification report'''\n",
        "    #create a multiclassmetrics instance\n",
        "    metrics = MulticlassMetrics(predictionAndLabels)\n",
        "    #compute Recall with respect to Real and fake news data\n",
        "    real_recall = metrics.recall(1.0)\n",
        "    fake_recall = metrics.recall(0.0)\n",
        "    #compute Precision with respect to Real and fake news data\n",
        "    real_precision = metrics.precision(1.0)\n",
        "    fake_precision = metrics.precision(0.0)\n",
        "    #compute F1 Score with respect to Real and fake news data\n",
        "    real_f1 = metrics.fMeasure(1.0)\n",
        "    fake_f1 = metrics.fMeasure(0.0)\n",
        "    #create a classificaiton report for the model\n",
        "    real = Row(News = 'Real', recall = real_recall, precision = real_precision, f1_score = real_f1)\n",
        "    fake = Row(News = 'Fake', recall = fake_recall, precision = fake_precision, f1_score = fake_f1)\n",
        "    classification_report = [real, fake]\n",
        "    classification_report_df = sql_context.createDataFrame(classification_report)\n",
        "    '''Confusion matrix'''\n",
        "    conf_matrix = metrics.confusionMatrix().toArray()\n",
        "    # List of models\n",
        "    return accuracy, auc, classification_report_df, conf_matrix\n",
        "    # List of models\n",
        "    model_names = []\n",
        "    accuracies = []\n",
        "    aucs = []"
      ]
    },
    {
      "cell_type": "code",
      "execution_count": null,
      "metadata": {
        "id": "bPEg5cU_5EmE"
      },
      "outputs": [],
      "source": [
        "#function for confusion matrix\n",
        "def plot_confusion_matrix(cm, target_names, title='Confusion Matrix', cmap=plt.cm.Blues):\n",
        "    plt.imshow(cm, interpolation='nearest', cmap=cmap)\n",
        "    plt.title(title)\n",
        "    plt.colorbar()\n",
        "    tick_marks = np.arange(len(target_names))\n",
        "    plt.xticks(tick_marks, target_names)\n",
        "    plt.yticks(tick_marks, target_names)\n",
        "    plt.tight_layout()\n",
        "\n",
        "    width, height = cm.shape\n",
        "\n",
        "    for x in range(width):\n",
        "        for y in range(height):\n",
        "            plt.annotate(str(cm[x][y]), xy=(y, x),\n",
        "                        horizontalalignment='center',\n",
        "                        verticalalignment='center')\n",
        "    plt.ylabel('True Label')\n",
        "    plt.xlabel('Predicted Label')"
      ]
    },
    {
      "cell_type": "markdown",
      "metadata": {
        "id": "VOzL-cfx5Uq6"
      },
      "source": [
        "**6. Modelling**\n",
        "\n",
        "This section implements different algorithms to predict the fake news. Initially the data is split into train and test in the ratio 70:30 using randomSplit function.\n"
      ]
    },
    {
      "cell_type": "code",
      "execution_count": null,
      "metadata": {
        "id": "c9yjqDde99xa"
      },
      "outputs": [],
      "source": [
        "#split the data\n",
        "train, test = dataset.randomSplit([0.7, 0.3])\n"
      ]
    },
    {
      "cell_type": "code",
      "execution_count": null,
      "metadata": {
        "colab": {
          "base_uri": "https://localhost:8080/"
        },
        "id": "0SNlesub-Wzu",
        "outputId": "d1bff2a4-f97a-4aea-b02b-a4252e09819b"
      },
      "outputs": [
        {
          "name": "stdout",
          "output_type": "stream",
          "text": [
            "Training Dataset Count: 2792\n",
            "Test Dataset Count: 1202\n"
          ]
        }
      ],
      "source": [
        "#check the train and test data count\n",
        "print(\"Training Dataset Count: \" + str(train.count()))\n",
        "print(\"Test Dataset Count: \" + str(test.count()))"
      ]
    },
    {
      "cell_type": "markdown",
      "metadata": {
        "id": "v8NHR8Eq-ZXF"
      },
      "source": [
        "## Logistic Regression Model"
      ]
    },
    {
      "cell_type": "code",
      "execution_count": null,
      "metadata": {
        "id": "hgKE6kAf7Qo1"
      },
      "outputs": [],
      "source": [
        "lr = LogisticRegression(labelCol=\"label\", featuresCol=\"features\")"
      ]
    },
    {
      "cell_type": "code",
      "execution_count": null,
      "metadata": {
        "colab": {
          "base_uri": "https://localhost:8080/"
        },
        "id": "ceM9LRF89xdM",
        "outputId": "39f1772c-490e-40ad-8b9a-b4ea4b016167"
      },
      "outputs": [
        {
          "name": "stdout",
          "output_type": "stream",
          "text": [
            "LogisticRegressionModel: uid=LogisticRegression_c2eafc450654, numClasses=2, numFeatures=262144\n"
          ]
        }
      ],
      "source": [
        "#Fit the model to the data\n",
        "lrModel = lr.fit(train)\n",
        "lr_predictions = lrModel.transform(test)\n",
        "print(lrModel)\n"
      ]
    },
    {
      "cell_type": "code",
      "execution_count": null,
      "metadata": {
        "colab": {
          "base_uri": "https://localhost:8080/"
        },
        "id": "extpqhXxBA1J",
        "outputId": "7930c66d-d5fc-4247-f2a7-61c427d8de0d"
      },
      "outputs": [
        {
          "name": "stderr",
          "output_type": "stream",
          "text": [
            "/usr/local/lib/python3.10/dist-packages/pyspark/sql/context.py:158: FutureWarning: Deprecated in 3.0.0. Use SparkSession.builder.getOrCreate() instead.\n",
            "  warnings.warn(\n",
            "/usr/local/lib/python3.10/dist-packages/pyspark/sql/context.py:158: FutureWarning: Deprecated in 3.0.0. Use SparkSession.builder.getOrCreate() instead.\n",
            "  warnings.warn(\n"
          ]
        }
      ],
      "source": [
        "#calculate the evaluation metrics of LogisticRegression model\n",
        "lr_accuracy, lr_auc, lr_classification_report_df, lr_conf_matrix = evalualte_metrics(lr_predictions)"
      ]
    },
    {
      "cell_type": "code",
      "execution_count": null,
      "metadata": {
        "colab": {
          "base_uri": "https://localhost:8080/"
        },
        "id": "uPQ4d_AsDy4t",
        "outputId": "d9dcd851-5a05-47fa-a978-7365a8867724"
      },
      "outputs": [
        {
          "name": "stdout",
          "output_type": "stream",
          "text": [
            "Logistic Regression accuracy is: 87.10\n",
            "Logistic Regression AUC is: 0.87\n"
          ]
        }
      ],
      "source": [
        "# List of models\n",
        "model_names = []\n",
        "accuracies = []\n",
        "aucs = []\n",
        "#print the auuracy and area under the curve\n",
        "print(\"Logistic Regression accuracy is: {:0.2f}\".format(lr_accuracy))\n",
        "print(\"Logistic Regression AUC is: {:0.2f}\".format(lr_auc))\n",
        "# Append results for the Random Forest model\n",
        "model_names.append(\"Logistic Regression\")\n",
        "accuracies.append(lr_accuracy)\n",
        "aucs.append(lr_auc)"
      ]
    },
    {
      "cell_type": "code",
      "execution_count": null,
      "metadata": {
        "colab": {
          "base_uri": "https://localhost:8080/"
        },
        "id": "dI1JSI9VEB4L",
        "outputId": "f5e49e60-8f45-4b8b-d12f-8b8e2f5a7941"
      },
      "outputs": [
        {
          "name": "stdout",
          "output_type": "stream",
          "text": [
            "+----+------------------+------------------+------------------+\n",
            "|News|            recall|         precision|          f1_score|\n",
            "+----+------------------+------------------+------------------+\n",
            "|Real|0.9036918138041734|0.8556231003039514| 0.879000780640125|\n",
            "|Fake|0.8359240069084629|0.8897058823529411|0.8619768477292965|\n",
            "+----+------------------+------------------+------------------+\n",
            "\n"
          ]
        }
      ],
      "source": [
        "#display the classification report\n",
        "lr_classification_report_df.show()"
      ]
    },
    {
      "cell_type": "code",
      "execution_count": null,
      "metadata": {
        "colab": {
          "base_uri": "https://localhost:8080/"
        },
        "id": "5ObVul4ZEYYb",
        "outputId": "28cb1bb1-4f57-4133-a2ec-29d0c0605668"
      },
      "outputs": [
        {
          "name": "stdout",
          "output_type": "stream",
          "text": [
            "Confusion Matrix\n",
            "[[484.  95.]\n",
            " [ 60. 563.]]\n"
          ]
        }
      ],
      "source": [
        "#print the confusion matrix\n",
        "print(\"Confusion Matrix\")\n",
        "print(lr_conf_matrix)"
      ]
    },
    {
      "cell_type": "code",
      "execution_count": null,
      "metadata": {
        "colab": {
          "base_uri": "https://localhost:8080/",
          "height": 506
        },
        "id": "qtqyssL8Ee_1",
        "outputId": "76d94a46-a989-451a-d0d4-5f915033f8b4"
      },
      "outputs": [
        {
          "data": {
            "image/png": "[encoded data removed]",
            "text/plain": [
              "<Figure size 640x480 with 2 Axes>"
            ]
          },
          "metadata": {},
          "output_type": "display_data"
        }
      ],
      "source": [
        "#plot confusion matrix\n",
        "plot_confusion_matrix(lr_conf_matrix,[\"Fake\",\"Real\"])"
      ]
    },
    {
      "cell_type": "markdown",
      "metadata": {
        "id": "uaQVcSeXGBSZ"
      },
      "source": [
        "## Random Forest Model"
      ]
    },
    {
      "cell_type": "code",
      "execution_count": null,
      "metadata": {
        "id": "LfTJOMwsGGBE"
      },
      "outputs": [],
      "source": [
        "rf = RandomForestClassifier(labelCol=\"label\", featuresCol=\"features\")"
      ]
    },
    {
      "cell_type": "code",
      "execution_count": null,
      "metadata": {
        "colab": {
          "base_uri": "https://localhost:8080/"
        },
        "id": "AToTgR1fGjej",
        "outputId": "78c6c1be-7e5c-4d74-8f20-73cb63e39c4c"
      },
      "outputs": [
        {
          "name": "stdout",
          "output_type": "stream",
          "text": [
            "RandomForestClassificationModel: uid=RandomForestClassifier_5421b0015852, numTrees=20, numClasses=2, numFeatures=262144\n"
          ]
        }
      ],
      "source": [
        "#Fit the model to the data\n",
        "rfModel = rf.fit(train)\n",
        "rf_predictions = rfModel.transform(test)\n",
        "print(rfModel)"
      ]
    },
    {
      "cell_type": "code",
      "execution_count": null,
      "metadata": {
        "id": "Lf2KquTgGwxr"
      },
      "outputs": [],
      "source": [
        "#calculate the evaluation metrics of LogisticRegression model\n",
        "rf_accuracy, rf_auc, rf_classification_report_df, rf_conf_matrix = evalualte_metrics(rf_predictions)"
      ]
    },
    {
      "cell_type": "code",
      "execution_count": null,
      "metadata": {
        "colab": {
          "base_uri": "https://localhost:8080/"
        },
        "id": "25Fh-yQiG3S-",
        "outputId": "98546a96-102f-4427-f61b-221422cad545"
      },
      "outputs": [
        {
          "name": "stdout",
          "output_type": "stream",
          "text": [
            "Random Forest accuracy is: 77.54\n",
            "Random Forest AUC is: 0.77\n"
          ]
        }
      ],
      "source": [
        "#print the auuracy and area under the curve\n",
        "print(\"Random Forest accuracy is: {:0.2f}\".format(rf_accuracy))\n",
        "print(\"Random Forest AUC is: {:0.2f}\".format(rf_auc))"
      ]
    },
    {
      "cell_type": "code",
      "execution_count": null,
      "metadata": {
        "colab": {
          "base_uri": "https://localhost:8080/"
        },
        "id": "pw8HUXfzG9Nd",
        "outputId": "bb3183fa-7abf-4582-8033-71b3858fa546"
      },
      "outputs": [
        {
          "name": "stdout",
          "output_type": "stream",
          "text": [
            "+----+------------------+------------------+------------------+\n",
            "|News|            recall|         precision|          f1_score|\n",
            "+----+------------------+------------------+------------------+\n",
            "|Real|0.8186195826645265|0.7646176911544228|0.7906976744186047|\n",
            "|Fake|0.7288428324697754| 0.788785046728972|0.7576301615798923|\n",
            "+----+------------------+------------------+------------------+\n",
            "\n"
          ]
        }
      ],
      "source": [
        "#display the classification report\n",
        "rf_classification_report_df.show()"
      ]
    },
    {
      "cell_type": "code",
      "execution_count": null,
      "metadata": {
        "colab": {
          "base_uri": "https://localhost:8080/"
        },
        "id": "6UHNZ5SBHLay",
        "outputId": "dbb4a818-c251-4fd2-bd1e-e163866c4737"
      },
      "outputs": [
        {
          "name": "stdout",
          "output_type": "stream",
          "text": [
            "Confusion Matrix\n",
            "[[422. 157.]\n",
            " [113. 510.]]\n"
          ]
        }
      ],
      "source": [
        "#print the confusion matrix\n",
        "print(\"Confusion Matrix\")\n",
        "print(rf_conf_matrix)\n",
        "# Append results for the Random Forest model\n",
        "model_names.append(\"Random Forest\")\n",
        "accuracies.append(rf_accuracy)\n",
        "aucs.append(rf_auc)"
      ]
    },
    {
      "cell_type": "code",
      "execution_count": null,
      "metadata": {
        "colab": {
          "base_uri": "https://localhost:8080/",
          "height": 506
        },
        "id": "xnHGzHKSHP6K",
        "outputId": "ab85f561-13e6-4008-f22e-a687345e5a43"
      },
      "outputs": [
        {
          "data": {
            "image/png": "[encoded data removed]",
            "text/plain": [
              "<Figure size 640x480 with 2 Axes>"
            ]
          },
          "metadata": {},
          "output_type": "display_data"
        }
      ],
      "source": [
        "#plot confusion matrix\n",
        "plot_confusion_matrix(rf_conf_matrix,[\"Fake\",\"Real\"])"
      ]
    },
    {
      "cell_type": "markdown",
      "metadata": {
        "id": "A8FEwI6eu9WV"
      },
      "source": [
        "## **Decision Tree Model**\n"
      ]
    },
    {
      "cell_type": "code",
      "execution_count": null,
      "metadata": {
        "id": "8h3G7iqSHu6Y"
      },
      "outputs": [],
      "source": [
        "from pyspark.ml.classification import DecisionTreeClassifier\n",
        "#define decision tree\n",
        "dt = DecisionTreeClassifier(labelCol=\"label\", featuresCol = \"features\")\n",
        "\n",
        "#train the model and predict on test data\n",
        "dtModel = dt.fit(train)\n",
        "dt_predictions = dtModel.transform(test)"
      ]
    },
    {
      "cell_type": "code",
      "execution_count": null,
      "metadata": {
        "id": "XpkMPenyICqq"
      },
      "outputs": [],
      "source": [
        "#calculate the evaluation metrics of decision tree model\n",
        "dt_accuracy, dt_auc, dt_classification_report_df, dt_conf_matrix = evalualte_metrics(dt_predictions)"
      ]
    },
    {
      "cell_type": "code",
      "execution_count": null,
      "metadata": {
        "colab": {
          "base_uri": "https://localhost:8080/"
        },
        "id": "wS_kS7EpIQl_",
        "outputId": "63cfdf2d-aa9d-4893-f7ed-8cf331d89cf5"
      },
      "outputs": [
        {
          "name": "stdout",
          "output_type": "stream",
          "text": [
            "Decision Tree accuracy is: 77.70\n",
            "Decision Tree AUC is: 0.78\n"
          ]
        }
      ],
      "source": [
        "#print the auuracy and area under the curve\n",
        "print(\"Decision Tree accuracy is: {:0.2f}\".format(dt_accuracy))\n",
        "print(\"Decision Tree AUC is: {:0.2f}\".format(dt_auc))\n",
        "# Append results for the Random Forest model\n",
        "model_names.append(\"Decision Tree\")\n",
        "accuracies.append(dt_accuracy)\n",
        "aucs.append(dt_auc)"
      ]
    },
    {
      "cell_type": "code",
      "execution_count": null,
      "metadata": {
        "colab": {
          "base_uri": "https://localhost:8080/"
        },
        "id": "IgUPYB6eIVqk",
        "outputId": "fddda929-ec83-4b08-85f6-3454d41ba49f"
      },
      "outputs": [
        {
          "name": "stdout",
          "output_type": "stream",
          "text": [
            "+----+------------------+------------------+------------------+\n",
            "|News|            recall|         precision|          f1_score|\n",
            "+----+------------------+------------------+------------------+\n",
            "|Real|0.5698234349919743|               1.0|0.7259713701431492|\n",
            "|Fake|               1.0|0.6835891381345927|0.8120617110799438|\n",
            "+----+------------------+------------------+------------------+\n",
            "\n"
          ]
        }
      ],
      "source": [
        "#display the classification report\n",
        "dt_classification_report_df.show()"
      ]
    },
    {
      "cell_type": "code",
      "execution_count": null,
      "metadata": {
        "colab": {
          "base_uri": "https://localhost:8080/"
        },
        "id": "b7Es7cB2IX8f",
        "outputId": "ab4ce58c-fca8-49cf-9cfa-022f178785f7"
      },
      "outputs": [
        {
          "name": "stdout",
          "output_type": "stream",
          "text": [
            "Confusion Matrix\n",
            "[[579.   0.]\n",
            " [268. 355.]]\n"
          ]
        }
      ],
      "source": [
        "#print the confusion matrix\n",
        "print(\"Confusion Matrix\")\n",
        "print(dt_conf_matrix)"
      ]
    },
    {
      "cell_type": "code",
      "execution_count": null,
      "metadata": {
        "colab": {
          "base_uri": "https://localhost:8080/"
        },
        "id": "_W3L3ZssIbA6",
        "outputId": "60864cc8-3767-404a-edc3-e432b6e78b8d"
      },
      "outputs": [
        {
          "data": {
            "image/png": "[encoded data removed]",
            "text/plain": [
              "<Figure size 640x480 with 2 Axes>"
            ]
          },
          "metadata": {},
          "output_type": "display_data"
        }
      ],
      "source": [
        "#plot confusion matrix\n",
        "plot_confusion_matrix(dt_conf_matrix,[\"Fake\",\"Real\"])"
      ]
    },
    {
      "cell_type": "markdown",
      "metadata": {
        "id": "2DPNMUhDIdL4"
      },
      "source": [
        "## Naive Bayes"
      ]
    },
    {
      "cell_type": "code",
      "execution_count": null,
      "metadata": {
        "id": "xhczXElwDt-X"
      },
      "outputs": [],
      "source": [
        "nb = NaiveBayes(labelCol=\"label\", featuresCol=\"features\")"
      ]
    },
    {
      "cell_type": "code",
      "execution_count": null,
      "metadata": {
        "id": "byrvuRGVD02L"
      },
      "outputs": [],
      "source": [
        "#train the model and predict on test data\n",
        "nbModel = nb.fit(train)\n",
        "nb_predictions = nbModel.transform(test)"
      ]
    },
    {
      "cell_type": "code",
      "execution_count": null,
      "metadata": {
        "id": "CAmfoanLMD8j"
      },
      "outputs": [],
      "source": [
        "#calculate the evaluation metrics of decision tree model\n",
        "nb_accuracy, nb_auc, nb_classification_report_df, nb_conf_matrix = evalualte_metrics(nb_predictions)"
      ]
    },
    {
      "cell_type": "code",
      "execution_count": null,
      "metadata": {
        "colab": {
          "base_uri": "https://localhost:8080/"
        },
        "id": "IyAjsNPtMSF2",
        "outputId": "51b26cd5-8315-429a-fbcc-30b792893e47"
      },
      "outputs": [
        {
          "name": "stdout",
          "output_type": "stream",
          "text": [
            "Naive Bayes accuracy is: 84.28\n",
            "Naive Bayes AUC is: 0.85\n"
          ]
        }
      ],
      "source": [
        "#print the auuracy and area under the curve\n",
        "print(\"Naive Bayes accuracy is: {:0.2f}\".format(nb_accuracy))\n",
        "print(\"Naive Bayes AUC is: {:0.2f}\".format(nb_auc))\n",
        "# Append results for the Random Forest model\n",
        "model_names.append(\"Naive Bayes\")\n",
        "accuracies.append(nb_accuracy)\n",
        "aucs.append(nb_auc)"
      ]
    },
    {
      "cell_type": "code",
      "execution_count": null,
      "metadata": {
        "colab": {
          "base_uri": "https://localhost:8080/"
        },
        "id": "gNOmeJt1MdJO",
        "outputId": "61683e80-1183-4e2d-dad1-ff4c2bbf54d2"
      },
      "outputs": [
        {
          "name": "stdout",
          "output_type": "stream",
          "text": [
            "+----+------------------+------------------+------------------+\n",
            "|News|            recall|         precision|          f1_score|\n",
            "+----+------------------+------------------+------------------+\n",
            "|Real|0.7720706260032103|0.9109848484848485|0.8357949609035622|\n",
            "|Fake| 0.918825561312608|0.7893175074183977|0.8491620111731845|\n",
            "+----+------------------+------------------+------------------+\n",
            "\n"
          ]
        }
      ],
      "source": [
        "#display the classification report\n",
        "nb_classification_report_df.show()"
      ]
    },
    {
      "cell_type": "code",
      "execution_count": null,
      "metadata": {
        "colab": {
          "base_uri": "https://localhost:8080/"
        },
        "id": "hXkOk_zRMuqj",
        "outputId": "ae244856-855d-48c2-bf5f-274faee26931"
      },
      "outputs": [
        {
          "name": "stdout",
          "output_type": "stream",
          "text": [
            "Confusion Matrix\n",
            "[[532.  47.]\n",
            " [142. 481.]]\n"
          ]
        }
      ],
      "source": [
        "#print the confusion matrix\n",
        "print(\"Confusion Matrix\")\n",
        "print(nb_conf_matrix)"
      ]
    },
    {
      "cell_type": "code",
      "execution_count": null,
      "metadata": {
        "colab": {
          "base_uri": "https://localhost:8080/"
        },
        "id": "0t5vKc34MxTy",
        "outputId": "50cbfc1d-56fc-4478-c285-7995a545d5c8"
      },
      "outputs": [
        {
          "data": {
            "image/png": "[encoded data removed]",
            "text/plain": [
              "<Figure size 640x480 with 2 Axes>"
            ]
          },
          "metadata": {},
          "output_type": "display_data"
        }
      ],
      "source": [
        "#plot confusion matrix\n",
        "plot_confusion_matrix(nb_conf_matrix,[\"Fake\",\"Real\"])"
      ]
    },
    {
      "cell_type": "markdown",
      "metadata": {
        "id": "6u2cY14oXMXL"
      },
      "source": [
        "#Gradient-Boosted Tree"
      ]
    },
    {
      "cell_type": "code",
      "execution_count": null,
      "metadata": {
        "id": "_QeJp6J9XSi6"
      },
      "outputs": [],
      "source": [
        "gb = GBTClassifier(labelCol=\"label\", featuresCol=\"features\")\n",
        "#train the model and predict on test data\n",
        "gbModel = gb.fit(train)\n",
        "gb_predictions = gbModel.transform(test)\n",
        "\n",
        "#calculate the evaluation metrics of decision tree model\n",
        "gb_accuracy, gb_auc, gb_classification_report_df, gb_conf_matrix = evalualte_metrics(gb_predictions)\n"
      ]
    },
    {
      "cell_type": "code",
      "execution_count": null,
      "metadata": {
        "colab": {
          "base_uri": "https://localhost:8080/"
        },
        "id": "aLJi6Nd3aPkg",
        "outputId": "b835c03e-a7b8-496e-e1dd-e75773b07d9c"
      },
      "outputs": [
        {
          "name": "stdout",
          "output_type": "stream",
          "text": [
            "Gardient Booster accuracy is: 85.77\n",
            "Gardient Booster AUC is: 0.86\n"
          ]
        }
      ],
      "source": [
        "#print the auuracy and area under the curve\n",
        "print(\"Gardient Booster accuracy is: {:0.2f}\".format(gb_accuracy))\n",
        "print(\"Gardient Booster AUC is: {:0.2f}\".format(gb_auc))\n",
        "# Append results for the Gardient Boost Tree model\n",
        "model_names.append(\"Gardient Booster\")\n",
        "accuracies.append(gb_accuracy)\n",
        "aucs.append(gb_auc)"
      ]
    },
    {
      "cell_type": "code",
      "execution_count": null,
      "metadata": {
        "colab": {
          "base_uri": "https://localhost:8080/"
        },
        "id": "4z0Xu1B2acg3",
        "outputId": "67e650d0-14cd-4e20-972c-8438720a2337"
      },
      "outputs": [
        {
          "name": "stdout",
          "output_type": "stream",
          "text": [
            "+----+------------------+------------------+------------------+\n",
            "|News|            recall|         precision|          f1_score|\n",
            "+----+------------------+------------------+------------------+\n",
            "|Real| 0.797752808988764|0.9169741697416974|0.8532188841201717|\n",
            "|Fake|0.9222797927461139|0.8090909090909091|0.8619854721549637|\n",
            "+----+------------------+------------------+------------------+\n",
            "\n"
          ]
        }
      ],
      "source": [
        "#display the classification report\n",
        "gb_classification_report_df.show()"
      ]
    },
    {
      "cell_type": "code",
      "execution_count": null,
      "metadata": {
        "colab": {
          "base_uri": "https://localhost:8080/"
        },
        "id": "K4gJ3CP3agkQ",
        "outputId": "49f99997-a133-40c3-9f6b-68323e64e75b"
      },
      "outputs": [
        {
          "name": "stdout",
          "output_type": "stream",
          "text": [
            "Confusion Matrix\n",
            "[[534.  45.]\n",
            " [126. 497.]]\n"
          ]
        }
      ],
      "source": [
        "#print the confusion matrix\n",
        "print(\"Confusion Matrix\")\n",
        "print(gb_conf_matrix)"
      ]
    },
    {
      "cell_type": "code",
      "execution_count": null,
      "metadata": {
        "colab": {
          "base_uri": "https://localhost:8080/"
        },
        "id": "ZiEWDAZMapDF",
        "outputId": "a9f41239-0b98-4620-bbce-e81da193967d"
      },
      "outputs": [
        {
          "data": {
            "image/png": "[encoded data removed]",
            "text/plain": [
              "<Figure size 640x480 with 2 Axes>"
            ]
          },
          "metadata": {},
          "output_type": "display_data"
        }
      ],
      "source": [
        "#plot confusion matrix\n",
        "plot_confusion_matrix(gb_conf_matrix,[\"Fake\",\"Real\"])"
      ]
    },
    {
      "cell_type": "markdown",
      "metadata": {
        "id": "Q48bg6Mvd3RQ"
      },
      "source": [
        "### **Linear SVM - linear support vector machine classifier**"
      ]
    },
    {
      "cell_type": "code",
      "execution_count": null,
      "metadata": {
        "colab": {
          "base_uri": "https://localhost:8080/"
        },
        "id": "sm_4jbrvQWMV",
        "outputId": "4e964668-a7a9-450f-8d75-0e4e1ce2fd18"
      },
      "outputs": [
        {
          "name": "stdout",
          "output_type": "stream",
          "text": [
            "Linear SVC accuracy is: 88.52\n",
            "Linear SVC AUC is: 0.89\n"
          ]
        }
      ],
      "source": [
        "# Train the model\n",
        "classifier = LinearSVC(maxIter=1000)\n",
        "lsvc_model = classifier.fit(train)\n",
        "\n",
        "# Make predictions\n",
        "lsvc_predictions = lsvc_model.transform(test)\n",
        "\n",
        "# Evaluate accuracy\n",
        "evaluator = MulticlassClassificationEvaluator(labelCol=\"label\", predictionCol=\"prediction\", metricName=\"accuracy\")\n",
        "#calculate the evaluation metrics of decision tree model\n",
        "lsvc_accuracy, lsvc_auc, lsvc_classification_report_df, lsvc_conf_matrix = evalualte_metrics(lsvc_predictions)\n",
        "#print the auuracy and area under the curve\n",
        "print(\"Linear SVC accuracy is: {:0.2f}\".format(lsvc_accuracy))\n",
        "print(\"Linear SVC AUC is: {:0.2f}\".format(lsvc_auc))\n",
        "# Append results\n",
        "model_names.append(\"Linear SVC\")\n",
        "accuracies.append(lsvc_accuracy)\n",
        "aucs.append(lsvc_auc)"
      ]
    },
    {
      "cell_type": "code",
      "execution_count": null,
      "metadata": {
        "colab": {
          "base_uri": "https://localhost:8080/"
        },
        "id": "QkFx2MKzPgQX",
        "outputId": "d9892f91-14ba-40cf-dc7b-03d2d145d64b"
      },
      "outputs": [
        {
          "name": "stdout",
          "output_type": "stream",
          "text": [
            "+----+------------------+------------------+------------------+\n",
            "|News|            recall|         precision|          f1_score|\n",
            "+----+------------------+------------------+------------------+\n",
            "|Real|0.8747993579454254|0.9008264462809917|0.8876221498371335|\n",
            "|Fake|0.8963730569948186|0.8693467336683417|0.8826530612244897|\n",
            "+----+------------------+------------------+------------------+\n",
            "\n"
          ]
        }
      ],
      "source": [
        "#display the classification report\n",
        "lsvc_classification_report_df.show()"
      ]
    },
    {
      "cell_type": "code",
      "execution_count": null,
      "metadata": {
        "colab": {
          "base_uri": "https://localhost:8080/"
        },
        "id": "NwmXuWqGvQOr",
        "outputId": "c0980595-321e-4033-fff0-37f73bd01773"
      },
      "outputs": [
        {
          "name": "stdout",
          "output_type": "stream",
          "text": [
            "Confusion Matrix\n",
            "[[519.  60.]\n",
            " [ 78. 545.]]\n"
          ]
        }
      ],
      "source": [
        "#print the confusion matrix\n",
        "print(\"Confusion Matrix\")\n",
        "print(lsvc_conf_matrix)"
      ]
    },
    {
      "cell_type": "code",
      "execution_count": null,
      "metadata": {
        "colab": {
          "base_uri": "https://localhost:8080/",
          "height": 506
        },
        "id": "cvuxmNcqvTwk",
        "outputId": "4cddc5c6-ae3b-4d78-9a3c-010f3817afdb"
      },
      "outputs": [
        {
          "data": {
            "image/png": "[encoded data removed]",
            "text/plain": [
              "<Figure size 640x480 with 2 Axes>"
            ]
          },
          "metadata": {},
          "output_type": "display_data"
        }
      ],
      "source": [
        "#plot confusion matrix\n",
        "plot_confusion_matrix(lsvc_conf_matrix,[\"Fake\",\"Real\"])"
      ]
    },
    {
      "cell_type": "code",
      "execution_count": null,
      "metadata": {
        "colab": {
          "base_uri": "https://localhost:8080/"
        },
        "id": "Ejt7AUjaucn3",
        "outputId": "c025ac51-fe2b-48b1-9487-bef176950fe1"
      },
      "outputs": [
        {
          "name": "stdout",
          "output_type": "stream",
          "text": [
            "                 Model   Accuracy       AUC\n",
            "0  Logistic Regression  87.104825  0.869808\n",
            "1        Random Forest  77.537438  0.773731\n",
            "2        Decision Tree  77.703827  0.784912\n",
            "3          Naive Bayes  84.276206  0.845448\n",
            "4     Gardient Booster  85.773710  0.860016\n",
            "5           Linear SVC  88.519135  0.885586\n"
          ]
        }
      ],
      "source": [
        "import pandas as pd\n",
        "\n",
        "# create a pandas DataFrame to show the results of models\n",
        "df_models = pd.DataFrame({\n",
        "    \"Model\": model_names,\n",
        "    \"Accuracy\": accuracies,\n",
        "    \"AUC\": aucs\n",
        "})\n",
        "\n",
        "# Print the DataFrame\n",
        "print(df_models)"
      ]
    },
    {
      "cell_type": "code",
      "execution_count": null,
      "metadata": {
        "colab": {
          "base_uri": "https://localhost:8080/"
        },
        "id": "0snJDiBvVR-l",
        "outputId": "249cf695-c1f8-419b-cbb3-78eb60ad6fd2"
      },
      "outputs": [
        {
          "name": "stdout",
          "output_type": "stream",
          "text": [
            "\u001b[?25l   \u001b[90m━━━━━━━━━━━━━━━━━━━━━━━━━━━━━━━━━━━━━━━━\u001b[0m \u001b[32m0.0/8.7 MB\u001b[0m \u001b[31m?\u001b[0m eta \u001b[36m-:--:--\u001b[0m\r\u001b[2K   \u001b[91m━━\u001b[0m\u001b[90m╺\u001b[0m\u001b[90m━━━━━━━━━━━━━━━━━━━━━━━━━━━━━━━━━━━━━\u001b[0m \u001b[32m0.5/8.7 MB\u001b[0m \u001b[31m16.9 MB/s\u001b[0m eta \u001b[36m0:00:01\u001b[0m\r\u001b[2K   \u001b[91m━━━━━━━━━━━━━━\u001b[0m\u001b[90m╺\u001b[0m\u001b[90m━━━━━━━━━━━━━━━━━━━━━━━━━\u001b[0m \u001b[32m3.1/8.7 MB\u001b[0m \u001b[31m44.6 MB/s\u001b[0m eta \u001b[36m0:00:01\u001b[0m\r\u001b[2K   \u001b[91m━━━━━━━━━━━━━━━━━━━━━━━━━━━━━━━━\u001b[0m\u001b[91m╸\u001b[0m\u001b[90m━━━━━━━\u001b[0m \u001b[32m7.1/8.7 MB\u001b[0m \u001b[31m67.7 MB/s\u001b[0m eta \u001b[36m0:00:01\u001b[0m\r\u001b[2K   \u001b[91m━━━━━━━━━━━━━━━━━━━━━━━━━━━━━━━━━━━━━━━\u001b[0m\u001b[91m╸\u001b[0m \u001b[32m8.7/8.7 MB\u001b[0m \u001b[31m73.0 MB/s\u001b[0m eta \u001b[36m0:00:01\u001b[0m\r\u001b[2K   \u001b[91m━━━━━━━━━━━━━━━━━━━━━━━━━━━━━━━━━━━━━━━\u001b[0m\u001b[91m╸\u001b[0m \u001b[32m8.7/8.7 MB\u001b[0m \u001b[31m73.0 MB/s\u001b[0m eta \u001b[36m0:00:01\u001b[0m\r\u001b[2K   \u001b[90m━━━━━━━━━━━━━━━━━━━━━━━━━━━━━━━━━━━━━━━━\u001b[0m \u001b[32m8.7/8.7 MB\u001b[0m \u001b[31m47.5 MB/s\u001b[0m eta \u001b[36m0:00:00\u001b[0m\n",
            "\u001b[2K   \u001b[90m━━━━━━━━━━━━━━━━━━━━━━━━━━━━━━━━━━━━━━━━\u001b[0m \u001b[32m207.3/207.3 kB\u001b[0m \u001b[31m12.0 MB/s\u001b[0m eta \u001b[36m0:00:00\u001b[0m\n",
            "\u001b[2K   \u001b[90m━━━━━━━━━━━━━━━━━━━━━━━━━━━━━━━━━━━━━━━━\u001b[0m \u001b[32m6.9/6.9 MB\u001b[0m \u001b[31m55.0 MB/s\u001b[0m eta \u001b[36m0:00:00\u001b[0m\n",
            "\u001b[2K   \u001b[90m━━━━━━━━━━━━━━━━━━━━━━━━━━━━━━━━━━━━━━━━\u001b[0m \u001b[32m82.9/82.9 kB\u001b[0m \u001b[31m5.0 MB/s\u001b[0m eta \u001b[36m0:00:00\u001b[0m\n",
            "\u001b[2K   \u001b[90m━━━━━━━━━━━━━━━━━━━━━━━━━━━━━━━━━━━━━━━━\u001b[0m \u001b[32m62.7/62.7 kB\u001b[0m \u001b[31m4.1 MB/s\u001b[0m eta \u001b[36m0:00:00\u001b[0m\n",
            "\u001b[?25h"
          ]
        }
      ],
      "source": [
        "#! pip install streamlit -q\n",
        "!pip install -q streamlit"
      ]
    },
    {
      "cell_type": "code",
      "execution_count": null,
      "metadata": {
        "id": "psLC2Gw_pbzQ"
      },
      "outputs": [],
      "source": [
        "# Save the fitted pipeline using PySpark's built-in methods\n",
        "pipelineFit.write().overwrite().save(\"fake_news_pipeline\")\n",
        "\n",
        "# Save the Linear SVC model using PySpark's built-in methods\n",
        "lsvc_model.write().overwrite().save(\"lsvc_model\")\n"
      ]
    },
    {
      "cell_type": "code",
      "execution_count": null,
      "metadata": {
        "colab": {
          "base_uri": "https://localhost:8080/"
        },
        "id": "pYNEw1uHzxaC",
        "outputId": "0f2af756-a729-4373-e23d-ba5e8fc30a7e"
      },
      "outputs": [
        {
          "name": "stdout",
          "output_type": "stream",
          "text": [
            "Writing app.py\n"
          ]
        }
      ],
      "source": [
        "%%writefile app.py\n",
        "import streamlit as st\n",
        "from pyspark.sql import SparkSession\n",
        "from pyspark.ml import PipelineModel\n",
        "from pyspark.ml.classification import LinearSVCModel\n",
        "from pyspark.ml import Transformer\n",
        "from pyspark.ml.param.shared import HasInputCol, HasOutputCol\n",
        "from pyspark.ml.util import DefaultParamsReadable, DefaultParamsWritable\n",
        "import pyspark.sql.functions as F\n",
        "from pyspark.sql.types import StringType\n",
        "import string\n",
        "\n",
        "# Initialize Spark session\n",
        "spark = SparkSession.builder.appName(\"FakeNewsDetectionApp\").getOrCreate()\n",
        "\n",
        "# Define a custom transformer for removing punctuation from a text column\n",
        "class PunctuationRemover(Transformer, HasInputCol, HasOutputCol, DefaultParamsReadable, DefaultParamsWritable):\n",
        "    def __init__(self, inputCol=None, outputCol=None):\n",
        "        super(PunctuationRemover, self).__init__()\n",
        "        self._setDefault(inputCol=inputCol, outputCol=outputCol)\n",
        "        self.setParams(inputCol=inputCol, outputCol=outputCol)\n",
        "\n",
        "    def setParams(self, inputCol=None, outputCol=None):\n",
        "        if inputCol:\n",
        "            self.setInputCol(inputCol)\n",
        "        if outputCol:\n",
        "            self.setOutputCol(outputCol)\n",
        "        return self\n",
        "\n",
        "    def _transform(self, df):\n",
        "        input_col = self.getInputCol()\n",
        "        output_col = self.getOutputCol()\n",
        "        if not input_col or not output_col:\n",
        "            raise ValueError(\"Input column and output column must be set\")\n",
        "        remove_punct_udf = F.udf(lambda text: text.translate(str.maketrans('', '', string.punctuation)), StringType())\n",
        "        return df.withColumn(output_col, remove_punct_udf(F.col(input_col)))\n",
        "\n",
        "# Load the saved pipeline model\n",
        "pipeline_model_path = \"fake_news_pipeline\"\n",
        "lsvc_model_path = \"lsvc_model\"\n",
        "\n",
        "pipeline_model = None\n",
        "lsvc_model = None\n",
        "\n",
        "pipeline_model = PipelineModel.load(pipeline_model_path)\n",
        "lsvc_model = LinearSVCModel.load(lsvc_model_path)\n",
        "\n",
        "# Function to preprocess the input data\n",
        "def preprocess_data(input_text):\n",
        "    try:\n",
        "        # Create a DataFrame from the input text\n",
        "        df_input = spark.createDataFrame([(input_text,)], [\"news_article\"])\n",
        "\n",
        "        # Check if pipeline model has stages\n",
        "        if not pipeline_model.stages:\n",
        "            st.error(\"Pipeline model has no stages.\")\n",
        "            return None\n",
        "\n",
        "        # Apply the pipeline stages manually excluding label transformations\n",
        "        for stage in pipeline_model.stages:\n",
        "            # Ensure the stage is a valid transformer\n",
        "            if isinstance(stage, Transformer):\n",
        "                df_input = stage.transform(df_input)\n",
        "            else:\n",
        "                st.error(f\"Stage {stage.__class__.__name__} is not a valid Transformer\")\n",
        "\n",
        "        return df_input\n",
        "    except Exception as e:\n",
        "        st.error(f\"Error in preprocessing data: {e}\")\n",
        "        return None\n",
        "\n",
        "# Streamlit app\n",
        "def main():\n",
        "\n",
        "# Inject custom CSS to set the video as the background\n",
        "    st.markdown(\n",
        "        \"\"\"\n",
        "        <style>\n",
        "        .stApp {\n",
        "            background: url(\"https://cdn.pixabay.com/video/2024/06/21/217643_small.mp4\") no-repeat center center fixed;\n",
        "            background-size: cover;\n",
        "            color: white;\n",
        "        }\n",
        "        .stButton>button {\n",
        "        background-color: #4CAF50; /* Change the background color of the button */\n",
        "        color: white; /* Change the text color to white */\n",
        "        border-radius: 12px; /* Optional: Make the button rounded */\n",
        "        font-size: 16px; /* Optional: Increase the font size */\n",
        "        padding: 10px 24px; /* Optional: Add some padding */\n",
        "        }\n",
        "        .stMarkdown h1 {\n",
        "        color: white; /* Change the title color here */\n",
        "        }\n",
        "        video#bgvid {\n",
        "            position: fixed;\n",
        "            right: 0;\n",
        "            bottom: 0;\n",
        "            min-width: 100%;\n",
        "            min-height: 100%;\n",
        "            z-index: -1;\n",
        "        }\n",
        "        </style>\n",
        "\n",
        "        <video autoplay muted loop id=\"bgvid\">\n",
        "            <source src=\"https://cdn.pixabay.com/video/2024/06/21/217643_small.mp4\" type=\"video/mp4\">\n",
        "        </video>\n",
        "        \"\"\",\n",
        "        unsafe_allow_html=True\n",
        "    )\n",
        "    st.title(\"Fake News Detection\")\n",
        "\n",
        "    # Input text box\n",
        "    input_text = st.text_area(\"Enter the news text:\")\n",
        "\n",
        "    if st.button(\"Predict\"):\n",
        "        if input_text.strip() != \"\":\n",
        "            # Preprocess the input text\n",
        "            processed_data = preprocess_data(input_text)\n",
        "\n",
        "            if processed_data is not None:\n",
        "                try:\n",
        "                    # Make predictions\n",
        "                    predictions = lsvc_model.transform(processed_data)\n",
        "\n",
        "                    # Show the prediction results\n",
        "                    prediction_result = predictions.select(\"prediction\").collect()[0]\n",
        "                    st.write(f\"Prediction: {'Fake' if prediction_result['prediction'] == 0.0 else 'Real'}\")\n",
        "                except Exception as e:\n",
        "                    st.error(f\"Error in making predictions: {e}\")\n",
        "            else:\n",
        "                st.write(\"An error occurred during preprocessing.\")\n",
        "        else:\n",
        "            st.write(\"Please enter some text to predict.\")\n",
        "\n",
        "if __name__ == \"__main__\":\n",
        "    main()\n"
      ]
    },
    {
      "cell_type": "code",
      "execution_count": null,
      "metadata": {
        "colab": {
          "base_uri": "https://localhost:8080/"
        },
        "id": "6mffw6T8M55-",
        "outputId": "36c60a6f-6e48-4abd-ea02-c04a9dbd0b12"
      },
      "outputs": [
        {
          "name": "stdout",
          "output_type": "stream",
          "text": [
            "\u001b[K\u001b[?25h\n",
            "added 22 packages, and audited 23 packages in 2s\n",
            "\n",
            "3 packages are looking for funding\n",
            "  run `npm fund` for details\n",
            "\n",
            "2 \u001b[33m\u001b[1mmoderate\u001b[22m\u001b[39m severity vulnerabilities\n",
            "\n",
            "To address all issues, run:\n",
            "  npm audit fix\n",
            "\n",
            "Run `npm audit` for details.\n"
          ]
        }
      ],
      "source": [
        "!npm install localtunnel"
      ]
    },
    {
      "cell_type": "code",
      "execution_count": null,
      "metadata": {
        "colab": {
          "base_uri": "https://localhost:8080/"
        },
        "id": "H-_X5Hhwrqng",
        "outputId": "779df704-1ad5-4519-f97d-c783b2fa21f7"
      },
      "outputs": [
        {
          "name": "stdout",
          "output_type": "stream",
          "text": [
            "35.185.142.112\n"
          ]
        }
      ],
      "source": [
        "!wget -q -O - ipv4.icanhazip.com"
      ]
    },
    {
      "cell_type": "code",
      "execution_count": null,
      "metadata": {
        "colab": {
          "background_save": true,
          "base_uri": "https://localhost:8080/"
        },
        "id": "5_umdf3QVwH8",
        "outputId": "7eab101f-22d9-4947-e3ce-f4030e7391d3"
      },
      "outputs": [
        {
          "name": "stdout",
          "output_type": "stream",
          "text": [
            "\n",
            "Collecting usage statistics. To deactivate, set browser.gatherUsageStats to false.\n",
            "\u001b[0m\n",
            "\u001b[0m\n",
            "\u001b[34m\u001b[1m  You can now view your Streamlit app in your browser.\u001b[0m\n",
            "\u001b[0m\n",
            "\u001b[34m  Local URL: \u001b[0m\u001b[1mhttp://localhost:8501\u001b[0m\n",
            "\u001b[34m  Network URL: \u001b[0m\u001b[1mhttp://172.28.0.12:8501\u001b[0m\n",
            "\u001b[34m  External URL: \u001b[0m\u001b[1mhttp://35.185.142.112:8501\u001b[0m\n",
            "\u001b[0m\n",
            "your url is: https://tender-sites-hear.loca.lt\n"
          ]
        }
      ],
      "source": [
        "!streamlit run app.py & npx localtunnel --port 8501"
      ]
    }
  ],
  "metadata": {
    "accelerator": "GPU",
    "colab": {
      "gpuType": "T4",
      "provenance": [],
      "mount_file_id": "1FIB-9cha7XxyiBrs2crLkR-NX8y0IcvO",
      "authorship_tag": "ABX9TyNdLImFFEilulAVePILgoKy",
      "include_colab_link": true
    },
    "kernelspec": {
      "display_name": "Python 3",
      "name": "python3"
    },
    "language_info": {
      "name": "python"
    }
  },
  "nbformat": 4,
  "nbformat_minor": 0
}